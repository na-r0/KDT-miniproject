{
 "cells": [
  {
   "cell_type": "markdown",
   "metadata": {},
   "source": [
    "### 주제: 뉴스 토픽 분류 (한국어)\n",
    "---\n",
    "- 출처: https://dacon.io/competitions/official/235747/overview/description"
   ]
  },
  {
   "cell_type": "code",
   "execution_count": 1,
   "metadata": {},
   "outputs": [],
   "source": [
    "# 모듈 로딩\n",
    "import pandas as pd\n",
    "import platform\n",
    "import matplotlib.pyplot as plt\n",
    "from konlpy.tag import Okt\n",
    "from sklearn.model_selection import train_test_split\n",
    "from tensorflow.keras.preprocessing.text import Tokenizer\n",
    "from tensorflow.keras.layers import SimpleRNN, Embedding, Dense, Dropout, LSTM, Bidirectional\n",
    "from tensorflow.keras.models import Sequential\n",
    "from tensorflow.keras.utils import plot_model, to_categorical\n",
    "from tensorflow.keras.preprocessing.sequence import pad_sequences\n",
    "import numpy as np\n",
    "from tensorflow import random # random seed 설정용"
   ]
  },
  {
   "cell_type": "markdown",
   "metadata": {},
   "source": [
    "[1] 데이터 준비"
   ]
  },
  {
   "cell_type": "code",
   "execution_count": 2,
   "metadata": {},
   "outputs": [],
   "source": [
    "# 데이터 로딩\n",
    "topicDf = pd.read_csv('train_data.csv').iloc[:,1:]\n",
    "topicDict = pd.read_csv('topic_dict.csv')"
   ]
  },
  {
   "cell_type": "code",
   "execution_count": 3,
   "metadata": {},
   "outputs": [
    {
     "data": {
      "text/html": [
       "<div>\n",
       "<style scoped>\n",
       "    .dataframe tbody tr th:only-of-type {\n",
       "        vertical-align: middle;\n",
       "    }\n",
       "\n",
       "    .dataframe tbody tr th {\n",
       "        vertical-align: top;\n",
       "    }\n",
       "\n",
       "    .dataframe thead th {\n",
       "        text-align: right;\n",
       "    }\n",
       "</style>\n",
       "<table border=\"1\" class=\"dataframe\">\n",
       "  <thead>\n",
       "    <tr style=\"text-align: right;\">\n",
       "      <th></th>\n",
       "      <th>title</th>\n",
       "      <th>topic_idx</th>\n",
       "    </tr>\n",
       "  </thead>\n",
       "  <tbody>\n",
       "    <tr>\n",
       "      <th>0</th>\n",
       "      <td>인천→핀란드 항공기 결항…휴가철 여행객 분통</td>\n",
       "      <td>4</td>\n",
       "    </tr>\n",
       "    <tr>\n",
       "      <th>1</th>\n",
       "      <td>실리콘밸리 넘어서겠다…구글 15조원 들여 美전역 거점화</td>\n",
       "      <td>4</td>\n",
       "    </tr>\n",
       "    <tr>\n",
       "      <th>2</th>\n",
       "      <td>이란 외무 긴장완화 해결책은 미국이 경제전쟁 멈추는 것</td>\n",
       "      <td>4</td>\n",
       "    </tr>\n",
       "    <tr>\n",
       "      <th>3</th>\n",
       "      <td>NYT 클린턴 측근韓기업 특수관계 조명…공과 사 맞물려종합</td>\n",
       "      <td>4</td>\n",
       "    </tr>\n",
       "    <tr>\n",
       "      <th>4</th>\n",
       "      <td>시진핑 트럼프에 중미 무역협상 조속 타결 희망</td>\n",
       "      <td>4</td>\n",
       "    </tr>\n",
       "  </tbody>\n",
       "</table>\n",
       "</div>"
      ],
      "text/plain": [
       "                              title  topic_idx\n",
       "0          인천→핀란드 항공기 결항…휴가철 여행객 분통          4\n",
       "1    실리콘밸리 넘어서겠다…구글 15조원 들여 美전역 거점화          4\n",
       "2    이란 외무 긴장완화 해결책은 미국이 경제전쟁 멈추는 것          4\n",
       "3  NYT 클린턴 측근韓기업 특수관계 조명…공과 사 맞물려종합          4\n",
       "4         시진핑 트럼프에 중미 무역협상 조속 타결 희망          4"
      ]
     },
     "execution_count": 3,
     "metadata": {},
     "output_type": "execute_result"
    }
   ],
   "source": [
    "topicDf.head()"
   ]
  },
  {
   "cell_type": "code",
   "execution_count": 4,
   "metadata": {},
   "outputs": [
    {
     "data": {
      "text/plain": [
       "title        0\n",
       "topic_idx    0\n",
       "dtype: int64"
      ]
     },
     "execution_count": 4,
     "metadata": {},
     "output_type": "execute_result"
    }
   ],
   "source": [
    "# 결측치 체크\n",
    "topicDf.isnull().sum()"
   ]
  },
  {
   "cell_type": "code",
   "execution_count": 5,
   "metadata": {},
   "outputs": [
    {
     "data": {
      "text/plain": [
       "0"
      ]
     },
     "execution_count": 5,
     "metadata": {},
     "output_type": "execute_result"
    }
   ],
   "source": [
    "# 중복 데이터 체크\n",
    "topicDf.duplicated().sum()"
   ]
  },
  {
   "cell_type": "code",
   "execution_count": 6,
   "metadata": {},
   "outputs": [
    {
     "data": {
      "text/html": [
       "<div>\n",
       "<style scoped>\n",
       "    .dataframe tbody tr th:only-of-type {\n",
       "        vertical-align: middle;\n",
       "    }\n",
       "\n",
       "    .dataframe tbody tr th {\n",
       "        vertical-align: top;\n",
       "    }\n",
       "\n",
       "    .dataframe thead th {\n",
       "        text-align: right;\n",
       "    }\n",
       "</style>\n",
       "<table border=\"1\" class=\"dataframe\">\n",
       "  <thead>\n",
       "    <tr style=\"text-align: right;\">\n",
       "      <th></th>\n",
       "      <th>topic</th>\n",
       "      <th>topic_idx</th>\n",
       "    </tr>\n",
       "  </thead>\n",
       "  <tbody>\n",
       "    <tr>\n",
       "      <th>0</th>\n",
       "      <td>IT과학</td>\n",
       "      <td>0</td>\n",
       "    </tr>\n",
       "    <tr>\n",
       "      <th>1</th>\n",
       "      <td>경제</td>\n",
       "      <td>1</td>\n",
       "    </tr>\n",
       "    <tr>\n",
       "      <th>2</th>\n",
       "      <td>사회</td>\n",
       "      <td>2</td>\n",
       "    </tr>\n",
       "    <tr>\n",
       "      <th>3</th>\n",
       "      <td>생활문화</td>\n",
       "      <td>3</td>\n",
       "    </tr>\n",
       "    <tr>\n",
       "      <th>4</th>\n",
       "      <td>세계</td>\n",
       "      <td>4</td>\n",
       "    </tr>\n",
       "    <tr>\n",
       "      <th>5</th>\n",
       "      <td>스포츠</td>\n",
       "      <td>5</td>\n",
       "    </tr>\n",
       "    <tr>\n",
       "      <th>6</th>\n",
       "      <td>정치</td>\n",
       "      <td>6</td>\n",
       "    </tr>\n",
       "  </tbody>\n",
       "</table>\n",
       "</div>"
      ],
      "text/plain": [
       "  topic  topic_idx\n",
       "0  IT과학          0\n",
       "1    경제          1\n",
       "2    사회          2\n",
       "3  생활문화          3\n",
       "4    세계          4\n",
       "5   스포츠          5\n",
       "6    정치          6"
      ]
     },
     "execution_count": 6,
     "metadata": {},
     "output_type": "execute_result"
    }
   ],
   "source": [
    "topicDict"
   ]
  },
  {
   "cell_type": "code",
   "execution_count": 7,
   "metadata": {},
   "outputs": [
    {
     "data": {
      "text/html": [
       "<div>\n",
       "<style scoped>\n",
       "    .dataframe tbody tr th:only-of-type {\n",
       "        vertical-align: middle;\n",
       "    }\n",
       "\n",
       "    .dataframe tbody tr th {\n",
       "        vertical-align: top;\n",
       "    }\n",
       "\n",
       "    .dataframe thead th {\n",
       "        text-align: right;\n",
       "    }\n",
       "</style>\n",
       "<table border=\"1\" class=\"dataframe\">\n",
       "  <thead>\n",
       "    <tr style=\"text-align: right;\">\n",
       "      <th></th>\n",
       "      <th>topic_idx</th>\n",
       "      <th>topic</th>\n",
       "    </tr>\n",
       "  </thead>\n",
       "  <tbody>\n",
       "    <tr>\n",
       "      <th>0</th>\n",
       "      <td>4824</td>\n",
       "      <td>IT과학</td>\n",
       "    </tr>\n",
       "    <tr>\n",
       "      <th>1</th>\n",
       "      <td>6222</td>\n",
       "      <td>경제</td>\n",
       "    </tr>\n",
       "    <tr>\n",
       "      <th>2</th>\n",
       "      <td>7362</td>\n",
       "      <td>사회</td>\n",
       "    </tr>\n",
       "    <tr>\n",
       "      <th>3</th>\n",
       "      <td>5933</td>\n",
       "      <td>생활문화</td>\n",
       "    </tr>\n",
       "    <tr>\n",
       "      <th>4</th>\n",
       "      <td>7629</td>\n",
       "      <td>세계</td>\n",
       "    </tr>\n",
       "    <tr>\n",
       "      <th>5</th>\n",
       "      <td>6933</td>\n",
       "      <td>스포츠</td>\n",
       "    </tr>\n",
       "    <tr>\n",
       "      <th>6</th>\n",
       "      <td>6751</td>\n",
       "      <td>정치</td>\n",
       "    </tr>\n",
       "  </tbody>\n",
       "</table>\n",
       "</div>"
      ],
      "text/plain": [
       "   topic_idx topic\n",
       "0       4824  IT과학\n",
       "1       6222    경제\n",
       "2       7362    사회\n",
       "3       5933  생활문화\n",
       "4       7629    세계\n",
       "5       6933   스포츠\n",
       "6       6751    정치"
      ]
     },
     "execution_count": 7,
     "metadata": {},
     "output_type": "execute_result"
    }
   ],
   "source": [
    "topic_count = pd.DataFrame(topicDf.topic_idx.value_counts().sort_index())\n",
    "topic_count['topic'] = topicDict.topic\n",
    "topic_count"
   ]
  },
  {
   "cell_type": "code",
   "execution_count": 8,
   "metadata": {},
   "outputs": [
    {
     "data": {
      "image/png": "[encoded data removed]",
      "text/plain": [
       "<Figure size 432x288 with 1 Axes>"
      ]
     },
     "metadata": {
      "needs_background": "light"
     },
     "output_type": "display_data"
    }
   ],
   "source": [
    "# topic label 분포도\n",
    "if platform.system()=='Windows':\n",
    "    plt.rc('font',family='Malgun Gothic')\n",
    "else:\n",
    "    plt.rc('font',family='AppleGothic')\n",
    "        \n",
    "plt.bar(topic_count.topic, topic_count.topic_idx, color='tomato')\n",
    "plt.show()"
   ]
  },
  {
   "cell_type": "markdown",
   "metadata": {},
   "source": [
    "[2] 데이터 처리"
   ]
  },
  {
   "cell_type": "code",
   "execution_count": 9,
   "metadata": {},
   "outputs": [],
   "source": [
    "# 형태소 분리 객체\n",
    "okt = Okt()"
   ]
  },
  {
   "cell_type": "code",
   "execution_count": 10,
   "metadata": {},
   "outputs": [],
   "source": [
    "# 형태소 분리 후 태깅하는 함수\n",
    "def makeTagging(data):\n",
    "    result_list = []\n",
    "    for title in data:\n",
    "        result = []\n",
    "        for word in okt.pos(title, stem=True): # 어간 추출\n",
    "            if word[1] in ['Noun', 'Verb', 'Adjective']: # 'Noun'-명사, 'Verb'-동사, 'Adjective'-형용사 \n",
    "                if(len(word[0])>1): # 한 글자 단어들 빼줌\n",
    "                    result.append(word[0])\n",
    "        result_list.append(result)\n",
    "    return result_list"
   ]
  },
  {
   "cell_type": "code",
   "execution_count": 11,
   "metadata": {},
   "outputs": [],
   "source": [
    "result_list = makeTagging(topicDf.title)"
   ]
  },
  {
   "cell_type": "code",
   "execution_count": 12,
   "metadata": {},
   "outputs": [
    {
     "name": "stdout",
     "output_type": "stream",
     "text": [
      "['인천', '핀란드', '항공기', '결항', '휴가', '여행객', '분통']\n",
      "['실리콘밸리', '넘어서다', '구글', '들이다', '전역', '거점']\n",
      "['이란', '외무', '긴장', '완화', '해결', '미국', '경제', '전쟁', '멈추다']\n",
      "['클린턴', '측근', '기업', '특수', '관계', '조명', '공과', '맞다', '물리다', '종합']\n",
      "['시진핑', '트럼프', '중미', '무역', '협상', '조속', '타결', '희망']\n"
     ]
    }
   ],
   "source": [
    "# 데이터 확인\n",
    "for i in range(5):\n",
    "    print(result_list[i])"
   ]
  },
  {
   "cell_type": "code",
   "execution_count": 13,
   "metadata": {},
   "outputs": [],
   "source": [
    "# 분리한 단어들로 문장 다시 생성하는 함수\n",
    "def makeData(data):\n",
    "    total_list = []\n",
    "    for stc in data:\n",
    "        sentence = ''\n",
    "        for word in stc:\n",
    "            sentence=sentence+' '+word\n",
    "        total_list.append(sentence.strip())\n",
    "    return total_list"
   ]
  },
  {
   "cell_type": "code",
   "execution_count": 14,
   "metadata": {},
   "outputs": [],
   "source": [
    "total_data = makeData(result_list)"
   ]
  },
  {
   "cell_type": "code",
   "execution_count": 15,
   "metadata": {},
   "outputs": [],
   "source": [
    "topicDf['new_title'] = total_data"
   ]
  },
  {
   "cell_type": "code",
   "execution_count": 16,
   "metadata": {},
   "outputs": [
    {
     "name": "stdout",
     "output_type": "stream",
     "text": [
      "인천 핀란드 항공기 결항 휴가 여행객 분통\n",
      "실리콘밸리 넘어서다 구글 들이다 전역 거점\n",
      "이란 외무 긴장 완화 해결 미국 경제 전쟁 멈추다\n",
      "클린턴 측근 기업 특수 관계 조명 공과 맞다 물리다 종합\n",
      "시진핑 트럼프 중미 무역 협상 조속 타결 희망\n"
     ]
    }
   ],
   "source": [
    "# 데이터 확인\n",
    "for i in range(5):\n",
    "    print(topicDf.new_title[i])"
   ]
  },
  {
   "cell_type": "code",
   "execution_count": 17,
   "metadata": {},
   "outputs": [],
   "source": [
    "# 비율에 맞게 학습/테스트 데이터 분활\n",
    "X_train, X_test, y_train, y_test = train_test_split(topicDf.new_title, \n",
    "                                                    topicDf.topic_idx, \n",
    "                                                    test_size=0.2, \n",
    "                                                    stratify=topicDf.topic_idx,\n",
    "                                                    random_state=11)"
   ]
  },
  {
   "cell_type": "code",
   "execution_count": 18,
   "metadata": {},
   "outputs": [],
   "source": [
    "X_train, X_val, y_train, y_val = train_test_split(X_train, \n",
    "                                                  y_train, \n",
    "                                                  test_size=0.2, \n",
    "                                                  stratify=y_train,\n",
    "                                                  random_state=11)"
   ]
  },
  {
   "cell_type": "code",
   "execution_count": 19,
   "metadata": {},
   "outputs": [],
   "source": [
    "# 인덱스 초기화\n",
    "X_train = X_train.reset_index().iloc[:,1]\n",
    "X_test = X_test.reset_index().iloc[:,1]\n",
    "X_val = X_val.reset_index().iloc[:,1]\n",
    "y_train = y_train.reset_index().iloc[:,1]\n",
    "y_test = y_test.reset_index().iloc[:,1]\n",
    "y_val = y_val.reset_index().iloc[:,1]"
   ]
  },
  {
   "cell_type": "code",
   "execution_count": 20,
   "metadata": {},
   "outputs": [
    {
     "name": "stdout",
     "output_type": "stream",
     "text": [
      "X_train : (29218,), X_test : (9131,) , X_val : (7305,)\n"
     ]
    }
   ],
   "source": [
    "print(f'X_train : {X_train.shape}, X_test : {X_test.shape} , X_val : {X_val.shape}')"
   ]
  },
  {
   "cell_type": "markdown",
   "metadata": {},
   "source": [
    "[3] 단어사전 생성"
   ]
  },
  {
   "cell_type": "markdown",
   "metadata": {},
   "source": [
    "[3-1] 단어사전 생성 및 사용할 단어사전 수 설정"
   ]
  },
  {
   "cell_type": "code",
   "execution_count": 21,
   "metadata": {},
   "outputs": [],
   "source": [
    "# 단어사전 생성하는 함수\n",
    "def makeVoca(numWord=0):\n",
    "    if numWord>0:\n",
    "        myToken=Tokenizer(num_words=numWord)\n",
    "    else:\n",
    "        myToken=Tokenizer()\n",
    "    \n",
    "    # 단어사전(voca) 생성\n",
    "    myToken.fit_on_texts(X_train)   \n",
    "    return myToken"
   ]
  },
  {
   "cell_type": "code",
   "execution_count": 22,
   "metadata": {},
   "outputs": [
    {
     "name": "stdout",
     "output_type": "stream",
     "text": [
      "word index: 21285\n"
     ]
    }
   ],
   "source": [
    "# 텍스트 데이터 토큰화 진행\n",
    "myToken=makeVoca()\n",
    "print('word index: {}'.format(len(myToken.word_index)))"
   ]
  },
  {
   "cell_type": "code",
   "execution_count": 222,
   "metadata": {},
   "outputs": [
    {
     "name": "stdout",
     "output_type": "stream",
     "text": [
      "전체 토큰 수 : 21285\n",
      "전체 토큰 빈도 수 : 206147\n",
      "8500 위 까지 등장 토큰 빈도수 : 176998\n",
      "비율 : 85.86009012985879\n"
     ]
    }
   ],
   "source": [
    "num_words = 8500\n",
    "word_counts = dict(myToken.word_counts.items())\n",
    "counts = list(word_counts.values())\n",
    "\n",
    "print('전체 토큰 수 :', len(counts))\n",
    "print('전체 토큰 빈도 수 :',np.sum(counts))\n",
    "print(num_words,'위까지 등장 토큰 빈도수 :', np.sum(counts[:num_words]))\n",
    "print('비율 :',np.sum(counts[:num_words])/np.sum(counts) *100 )"
   ]
  },
  {
   "cell_type": "code",
   "execution_count": 24,
   "metadata": {},
   "outputs": [
    {
     "name": "stdout",
     "output_type": "stream",
     "text": [
      "word index: 21285\n"
     ]
    }
   ],
   "source": [
    "myToken=makeVoca(num_words)\n",
    "print('word index: {}'.format(len(myToken.word_index)))"
   ]
  },
  {
   "cell_type": "markdown",
   "metadata": {},
   "source": [
    "[3-2] 텍스트 => 정수 수치화 (생성한 단어사전 기반)"
   ]
  },
  {
   "cell_type": "code",
   "execution_count": 25,
   "metadata": {},
   "outputs": [],
   "source": [
    "seq_train=myToken.texts_to_sequences(X_train)\n",
    "seq_test=myToken.texts_to_sequences(X_test)\n",
    "seq_val=myToken.texts_to_sequences(X_val)"
   ]
  },
  {
   "cell_type": "code",
   "execution_count": 26,
   "metadata": {},
   "outputs": [],
   "source": [
    "# 패딩 길이 설정 \n",
    "def checkLength(datas):\n",
    "    length = []\n",
    "    for data in datas:\n",
    "        length.append(len(data))\n",
    "    plt.hist(length)\n",
    "    plt.xlabel('length')\n",
    "    plt.show()\n",
    "    return length"
   ]
  },
  {
   "cell_type": "code",
   "execution_count": 27,
   "metadata": {},
   "outputs": [
    {
     "data": {
      "image/png": "[encoded data removed]",
      "text/plain": [
       "<Figure size 432x288 with 1 Axes>"
      ]
     },
     "metadata": {
      "needs_background": "light"
     },
     "output_type": "display_data"
    }
   ],
   "source": [
    "length=checkLength(seq_train)"
   ]
  },
  {
   "cell_type": "code",
   "execution_count": 28,
   "metadata": {},
   "outputs": [],
   "source": [
    "pad_length = max(length)"
   ]
  },
  {
   "cell_type": "code",
   "execution_count": 29,
   "metadata": {},
   "outputs": [],
   "source": [
    "train_seq = pad_sequences(seq_train, maxlen=pad_length)\n",
    "test_seq = pad_sequences(seq_test, maxlen=pad_length)\n",
    "val_seq = pad_sequences(seq_val, maxlen=pad_length)"
   ]
  },
  {
   "cell_type": "code",
   "execution_count": 30,
   "metadata": {},
   "outputs": [
    {
     "data": {
      "text/plain": [
       "((29218, 14), (9131, 14), (7305, 14))"
      ]
     },
     "execution_count": 30,
     "metadata": {},
     "output_type": "execute_result"
    }
   ],
   "source": [
    "train_seq.shape, test_seq.shape, val_seq.shape"
   ]
  },
  {
   "cell_type": "markdown",
   "metadata": {},
   "source": [
    "[4] 모델 구성"
   ]
  },
  {
   "cell_type": "markdown",
   "metadata": {},
   "source": [
    "방법 1. 심플RNN\n",
    "\n",
    "---"
   ]
  },
  {
   "cell_type": "code",
   "execution_count": 31,
   "metadata": {},
   "outputs": [],
   "source": [
    "random.set_seed(11)"
   ]
  },
  {
   "cell_type": "code",
   "execution_count": 32,
   "metadata": {},
   "outputs": [
    {
     "name": "stdout",
     "output_type": "stream",
     "text": [
      "Model: \"sequential\"\n",
      "_________________________________________________________________\n",
      " Layer (type)                Output Shape              Param #   \n",
      "=================================================================\n",
      " embedding (Embedding)       (None, 14, 32)            272000    \n",
      "                                                                 \n",
      " dropout (Dropout)           (None, 14, 32)            0         \n",
      "                                                                 \n",
      " simple_rnn (SimpleRNN)      (None, 64)                6208      \n",
      "                                                                 \n",
      " dropout_1 (Dropout)         (None, 64)                0         \n",
      "                                                                 \n",
      " dense (Dense)               (None, 7)                 455       \n",
      "                                                                 \n",
      "=================================================================\n",
      "Total params: 278,663\n",
      "Trainable params: 278,663\n",
      "Non-trainable params: 0\n",
      "_________________________________________________________________\n"
     ]
    }
   ],
   "source": [
    "model = Sequential()\n",
    "model.add(Embedding(num_words, 32, input_length=pad_length))\n",
    "model.add(Dropout(0.2))\n",
    "model.add(SimpleRNN(64))\n",
    "model.add(Dropout(0.3))\n",
    "model.add(Dense(7, activation='softmax'))\n",
    "\n",
    "model.summary()"
   ]
  },
  {
   "cell_type": "code",
   "execution_count": 33,
   "metadata": {},
   "outputs": [
    {
     "data": {
      "image/png": "[encoded data removed]",
      "text/plain": [
       "<IPython.core.display.Image object>"
      ]
     },
     "execution_count": 33,
     "metadata": {},
     "output_type": "execute_result"
    }
   ],
   "source": [
    "plot_model(model, show_shapes=True)"
   ]
  },
  {
   "cell_type": "code",
   "execution_count": 34,
   "metadata": {},
   "outputs": [],
   "source": [
    "model.compile(optimizer='rmsprop', \n",
    "              loss='sparse_categorical_crossentropy', \n",
    "              metrics=['accuracy'])"
   ]
  },
  {
   "cell_type": "code",
   "execution_count": 35,
   "metadata": {},
   "outputs": [
    {
     "name": "stdout",
     "output_type": "stream",
     "text": [
      "Epoch 1/5\n",
      "457/457 [==============================] - 4s 5ms/step - loss: 1.2902 - accuracy: 0.5077 - val_loss: 0.7947 - val_accuracy: 0.7368\n",
      "Epoch 2/5\n",
      "457/457 [==============================] - 2s 5ms/step - loss: 0.6802 - accuracy: 0.7782 - val_loss: 0.8079 - val_accuracy: 0.7251\n",
      "Epoch 3/5\n",
      "457/457 [==============================] - 2s 4ms/step - loss: 0.5474 - accuracy: 0.8255 - val_loss: 0.6251 - val_accuracy: 0.7979\n",
      "Epoch 4/5\n",
      "457/457 [==============================] - 2s 4ms/step - loss: 0.4802 - accuracy: 0.8497 - val_loss: 0.6250 - val_accuracy: 0.8023\n",
      "Epoch 5/5\n",
      "457/457 [==============================] - 2s 4ms/step - loss: 0.4425 - accuracy: 0.8612 - val_loss: 0.6148 - val_accuracy: 0.8073\n"
     ]
    }
   ],
   "source": [
    "hist = model.fit(train_seq, y_train, \n",
    "                epochs=5, \n",
    "                batch_size=64, \n",
    "                validation_data=(val_seq, y_val))"
   ]
  },
  {
   "cell_type": "code",
   "execution_count": 36,
   "metadata": {},
   "outputs": [
    {
     "data": {
      "image/png": "[encoded data removed]",
      "text/plain": [
       "<Figure size 936x288 with 2 Axes>"
      ]
     },
     "metadata": {
      "needs_background": "light"
     },
     "output_type": "display_data"
    }
   ],
   "source": [
    "plt.figure(figsize=(13,4))\n",
    "plt.subplot(121)\n",
    "plt.plot(hist.epoch, hist.history['loss'])\n",
    "plt.plot(hist.epoch, hist.history['val_loss'])\n",
    "plt.legend(['loss', 'val_loss'])\n",
    "plt.grid()\n",
    "plt.subplot(122)\n",
    "plt.plot(hist.epoch, hist.history['accuracy'])\n",
    "plt.plot(hist.epoch, hist.history['val_accuracy'])\n",
    "plt.legend(['accuracy', 'val_accuracy'])\n",
    "plt.grid()\n",
    "plt.show()"
   ]
  },
  {
   "cell_type": "code",
   "execution_count": 37,
   "metadata": {},
   "outputs": [
    {
     "name": "stdout",
     "output_type": "stream",
     "text": [
      "286/286 [==============================] - 0s 1ms/step - loss: 0.6205 - accuracy: 0.8065\n"
     ]
    },
    {
     "data": {
      "text/plain": [
       "[0.6204554438591003, 0.8064833879470825]"
      ]
     },
     "execution_count": 37,
     "metadata": {},
     "output_type": "execute_result"
    }
   ],
   "source": [
    "model.evaluate(test_seq, y_test)"
   ]
  },
  {
   "cell_type": "markdown",
   "metadata": {},
   "source": [
    "방법 2. 양방향 LSTM\n",
    "\n",
    "---"
   ]
  },
  {
   "cell_type": "code",
   "execution_count": 38,
   "metadata": {},
   "outputs": [],
   "source": [
    "random.set_seed(11)"
   ]
  },
  {
   "cell_type": "code",
   "execution_count": 44,
   "metadata": {},
   "outputs": [
    {
     "name": "stdout",
     "output_type": "stream",
     "text": [
      "Model: \"sequential_2\"\n",
      "_________________________________________________________________\n",
      " Layer (type)                Output Shape              Param #   \n",
      "=================================================================\n",
      " embedding_2 (Embedding)     (None, 14, 32)            272000    \n",
      "                                                                 \n",
      " bidirectional_2 (Bidirectio  (None, 14, 128)          49664     \n",
      " nal)                                                            \n",
      "                                                                 \n",
      " dropout_4 (Dropout)         (None, 14, 128)           0         \n",
      "                                                                 \n",
      " bidirectional_3 (Bidirectio  (None, 128)              98816     \n",
      " nal)                                                            \n",
      "                                                                 \n",
      " dropout_5 (Dropout)         (None, 128)               0         \n",
      "                                                                 \n",
      " dense_2 (Dense)             (None, 7)                 903       \n",
      "                                                                 \n",
      "=================================================================\n",
      "Total params: 421,383\n",
      "Trainable params: 421,383\n",
      "Non-trainable params: 0\n",
      "_________________________________________________________________\n"
     ]
    }
   ],
   "source": [
    "model2 = Sequential()\n",
    "model2.add(Embedding(num_words, 32, input_length=pad_length))\n",
    "model2.add(Bidirectional(LSTM(units=64, return_sequences=True)))\n",
    "model2.add(Dropout(0.3))\n",
    "model2.add(Bidirectional(LSTM(units=64)))\n",
    "model2.add(Dropout(0.3))\n",
    "model2.add(Dense(7, activation='softmax'))\n",
    "\n",
    "model2.summary()"
   ]
  },
  {
   "cell_type": "code",
   "execution_count": 45,
   "metadata": {},
   "outputs": [],
   "source": [
    "model2.compile(optimizer='rmsprop', \n",
    "              loss='sparse_categorical_crossentropy', \n",
    "              metrics=['accuracy'])"
   ]
  },
  {
   "cell_type": "code",
   "execution_count": 46,
   "metadata": {},
   "outputs": [
    {
     "name": "stdout",
     "output_type": "stream",
     "text": [
      "Epoch 1/5\n",
      "457/457 [==============================] - 29s 28ms/step - loss: 1.1507 - accuracy: 0.5544 - val_loss: 0.7939 - val_accuracy: 0.7298\n",
      "Epoch 2/5\n",
      "457/457 [==============================] - 10s 21ms/step - loss: 0.6185 - accuracy: 0.7966 - val_loss: 0.6598 - val_accuracy: 0.7836\n",
      "Epoch 3/5\n",
      "457/457 [==============================] - 11s 23ms/step - loss: 0.4881 - accuracy: 0.8460 - val_loss: 0.5903 - val_accuracy: 0.8040\n",
      "Epoch 4/5\n",
      "457/457 [==============================] - 10s 22ms/step - loss: 0.4269 - accuracy: 0.8660 - val_loss: 0.5991 - val_accuracy: 0.8030\n",
      "Epoch 5/5\n",
      "457/457 [==============================] - 10s 22ms/step - loss: 0.3887 - accuracy: 0.8775 - val_loss: 0.5829 - val_accuracy: 0.8112\n"
     ]
    }
   ],
   "source": [
    "hist2 = model2.fit(train_seq, y_train, \n",
    "                epochs=5, \n",
    "                batch_size=64, \n",
    "                validation_data=(val_seq, y_val))"
   ]
  },
  {
   "cell_type": "code",
   "execution_count": 47,
   "metadata": {},
   "outputs": [
    {
     "data": {
      "image/png": "[encoded data removed]",
      "text/plain": [
       "<Figure size 936x288 with 2 Axes>"
      ]
     },
     "metadata": {
      "needs_background": "light"
     },
     "output_type": "display_data"
    }
   ],
   "source": [
    "plt.figure(figsize=(13,4))\n",
    "plt.subplot(121)\n",
    "plt.plot(hist2.epoch, hist2.history['loss'])\n",
    "plt.plot(hist2.epoch, hist2.history['val_loss'])\n",
    "plt.legend(['loss', 'val_loss'])\n",
    "plt.grid()\n",
    "plt.subplot(122)\n",
    "plt.plot(hist2.epoch, hist2.history['accuracy'])\n",
    "plt.plot(hist2.epoch, hist2.history['val_accuracy'])\n",
    "plt.legend(['accuracy', 'val_accuracy'])\n",
    "plt.grid()\n",
    "plt.show()"
   ]
  },
  {
   "cell_type": "code",
   "execution_count": 48,
   "metadata": {},
   "outputs": [
    {
     "name": "stdout",
     "output_type": "stream",
     "text": [
      "286/286 [==============================] - 1s 5ms/step - loss: 0.6016 - accuracy: 0.8094\n"
     ]
    },
    {
     "data": {
      "text/plain": [
       "[0.6015506386756897, 0.8094403743743896]"
      ]
     },
     "execution_count": 48,
     "metadata": {},
     "output_type": "execute_result"
    }
   ],
   "source": [
    "model2.evaluate(test_seq, y_test)"
   ]
  },
  {
   "cell_type": "markdown",
   "metadata": {},
   "source": [
    "네이버 뉴스 제목 예측\n",
    "\n",
    "---"
   ]
  },
  {
   "cell_type": "code",
   "execution_count": 214,
   "metadata": {},
   "outputs": [],
   "source": [
    "news = [\"우크라 전쟁에 인공위성 발사 '백지화'…수백억대 비용 '증발' 위험\",\n",
    "        \"네이버클라우드, '클라우드 엑스포 아시아' 참가…글로벌 시장 공략\",\n",
    "        '1달러 1440원 치솟았는데…토스증권서는 1298원에 환전 해프닝',\n",
    "        '삼성전자 언제까지 추락할까…증권가 목표주가 격차 50% 육박',\n",
    "        '28일 9시까지 3만여명 신규확진 ... 전날보다 4625명 줄어',\n",
    "        '돈스파이크 구속, 줄 잇는 마약 파문…더 많아지고 더 쉬워졌다',\n",
    "        '3년만에 가려했더니…부산영화제 예매 첫날부터 오류',\n",
    "        '경기남부 새벽~아침, 짙은 안개...큰 일교차 주의',\n",
    "        \"'100년 만의 최강 허리케인' 플로리다 전역 비상사태 선포\",\n",
    "        '미, 러 동원령에 \"미 시민권자 즉각 러시아 떠나라\"',\n",
    "        \"손흥민, '월드컵까지 상승세 탈' EPL 베스트11 선정…전문가 10인 선정\",\n",
    "        '이대호 은퇴식 및 영구결번식, 10월8일 사직구장서 열린다',\n",
    "        '尹대통령 만난 英외무장관 \"여왕 국장 참석, 크게 감동했다\"', \n",
    "        \"이데일리 '외교참사 총책임' 박진, 취임 4개월여 만에 해임 위기\"]"
   ]
  },
  {
   "cell_type": "code",
   "execution_count": 215,
   "metadata": {},
   "outputs": [],
   "source": [
    "news_topic = makeTagging(news)"
   ]
  },
  {
   "cell_type": "code",
   "execution_count": 216,
   "metadata": {},
   "outputs": [],
   "source": [
    "# 분리한 단어들로 문장 다시 생성하는 함수\n",
    "def makeData(data):\n",
    "    total_list = []\n",
    "    for stc in data:\n",
    "        sentence = ''\n",
    "        for word in stc:\n",
    "            sentence=sentence+' '+word\n",
    "        total_list.append(sentence.strip())\n",
    "    return total_list"
   ]
  },
  {
   "cell_type": "code",
   "execution_count": 217,
   "metadata": {},
   "outputs": [],
   "source": [
    "total_test = makeData(news_topic)"
   ]
  },
  {
   "cell_type": "code",
   "execution_count": 218,
   "metadata": {},
   "outputs": [],
   "source": [
    "seq_title=myToken.texts_to_sequences(total_test)"
   ]
  },
  {
   "cell_type": "code",
   "execution_count": 219,
   "metadata": {},
   "outputs": [],
   "source": [
    "title_seq = pad_sequences(seq_title, maxlen=pad_length)"
   ]
  },
  {
   "cell_type": "code",
   "execution_count": 221,
   "metadata": {},
   "outputs": [
    {
     "name": "stdout",
     "output_type": "stream",
     "text": [
      "<우크라 전쟁에 인공위성 발사 '백지화'…수백억대 비용 '증발' 위험>\n",
      "origin topic: IT과학, predict topic: 세계, check: X\n",
      "--------------------------------------------------\n",
      "<네이버클라우드, '클라우드 엑스포 아시아' 참가…글로벌 시장 공략>\n",
      "origin topic: IT과학, predict topic: IT과학, check: O\n",
      "--------------------------------------------------\n",
      "<1달러 1440원 치솟았는데…토스증권서는 1298원에 환전 해프닝>\n",
      "origin topic: 경제, predict topic: 경제, check: O\n",
      "--------------------------------------------------\n",
      "<삼성전자 언제까지 추락할까…증권가 목표주가 격차 50% 육박>\n",
      "origin topic: 경제, predict topic: 경제, check: O\n",
      "--------------------------------------------------\n",
      "<28일 9시까지 3만여명 신규확진 ... 전날보다 4625명 줄어>\n",
      "origin topic: 사회, predict topic: 사회, check: O\n",
      "--------------------------------------------------\n",
      "<돈스파이크 구속, 줄 잇는 마약 파문…더 많아지고 더 쉬워졌다>\n",
      "origin topic: 사회, predict topic: 세계, check: X\n",
      "--------------------------------------------------\n",
      "<3년만에 가려했더니…부산영화제 예매 첫날부터 오류>\n",
      "origin topic: 생활문화, predict topic: 생활문화, check: O\n",
      "--------------------------------------------------\n",
      "<경기남부 새벽~아침, 짙은 안개...큰 일교차 주의>\n",
      "origin topic: 생활문화, predict topic: 생활문화, check: O\n",
      "--------------------------------------------------\n",
      "<'100년 만의 최강 허리케인' 플로리다 전역 비상사태 선포>\n",
      "origin topic: 세계, predict topic: 세계, check: O\n",
      "--------------------------------------------------\n",
      "<미, 러 동원령에 \"미 시민권자 즉각 러시아 떠나라\">\n",
      "origin topic: 세계, predict topic: 세계, check: O\n",
      "--------------------------------------------------\n",
      "<손흥민, '월드컵까지 상승세 탈' EPL 베스트11 선정…전문가 10인 선정>\n",
      "origin topic: 스포츠, predict topic: 스포츠, check: O\n",
      "--------------------------------------------------\n",
      "<이대호 은퇴식 및 영구결번식, 10월8일 사직구장서 열린다>\n",
      "origin topic: 스포츠, predict topic: 생활문화, check: X\n",
      "--------------------------------------------------\n",
      "<尹대통령 만난 英외무장관 \"여왕 국장 참석, 크게 감동했다\">\n",
      "origin topic: 정치, predict topic: 정치, check: O\n",
      "--------------------------------------------------\n",
      "<이데일리 '외교참사 총책임' 박진, 취임 4개월여 만에 해임 위기>\n",
      "origin topic: 정치, predict topic: 사회, check: X\n",
      "--------------------------------------------------\n"
     ]
    }
   ],
   "source": [
    "t = []\n",
    "for i in range(len(title_seq)):\n",
    "    t.append(model2.predict([title_seq[[i]]]))\n",
    "topic = {0:'IT과학', 1: '경제', 2:'사회', 3:'생활문화', 4:'세계', 5:'스포츠', 6:'정치'}\n",
    "origin = ['IT과학', 'IT과학', '경제', '경제', '사회', '사회', '생활문화', '생활문화', '세계', '세계', '스포츠', '스포츠', '정치', '정치', '사회']\n",
    "topic_idx = ''\n",
    "for i in range(len(t)):\n",
    "    topic_idx = (np.argmax(t[i]))\n",
    "    print('<{}>'.format(news[i]))\n",
    "    if origin[i] == topic.get(topic_idx): check ='O'\n",
    "    else: check = 'X'\n",
    "    print('origin topic: {}, predict topic: {}, check: {}'.format(origin[i], topic.get(topic_idx), check))\n",
    "    print('-'*50)"
   ]
  },
  {
   "cell_type": "markdown",
   "metadata": {},
   "source": [
    "데이콘 test_data.csv로 예측\n",
    "\n",
    "---"
   ]
  },
  {
   "cell_type": "code",
   "execution_count": 49,
   "metadata": {},
   "outputs": [],
   "source": [
    "# 데이터 로딩\n",
    "testDf = pd.read_csv('test_data.csv').iloc[:,1:]\n",
    "sub = pd.read_csv('sample_submission.csv')"
   ]
  },
  {
   "cell_type": "code",
   "execution_count": 50,
   "metadata": {},
   "outputs": [
    {
     "data": {
      "text/html": [
       "<div>\n",
       "<style scoped>\n",
       "    .dataframe tbody tr th:only-of-type {\n",
       "        vertical-align: middle;\n",
       "    }\n",
       "\n",
       "    .dataframe tbody tr th {\n",
       "        vertical-align: top;\n",
       "    }\n",
       "\n",
       "    .dataframe thead th {\n",
       "        text-align: right;\n",
       "    }\n",
       "</style>\n",
       "<table border=\"1\" class=\"dataframe\">\n",
       "  <thead>\n",
       "    <tr style=\"text-align: right;\">\n",
       "      <th></th>\n",
       "      <th>title</th>\n",
       "    </tr>\n",
       "  </thead>\n",
       "  <tbody>\n",
       "    <tr>\n",
       "      <th>0</th>\n",
       "      <td>유튜브 내달 2일까지 크리에이터 지원 공간 운영</td>\n",
       "    </tr>\n",
       "    <tr>\n",
       "      <th>1</th>\n",
       "      <td>어버이날 맑다가 흐려져…남부지방 옅은 황사</td>\n",
       "    </tr>\n",
       "    <tr>\n",
       "      <th>2</th>\n",
       "      <td>내년부터 국가RD 평가 때 논문건수는 반영 않는다</td>\n",
       "    </tr>\n",
       "    <tr>\n",
       "      <th>3</th>\n",
       "      <td>김명자 신임 과총 회장 원로와 젊은 과학자 지혜 모을 것</td>\n",
       "    </tr>\n",
       "    <tr>\n",
       "      <th>4</th>\n",
       "      <td>회색인간 작가 김동식 양심고백 등 새 소설집 2권 출간</td>\n",
       "    </tr>\n",
       "    <tr>\n",
       "      <th>...</th>\n",
       "      <td>...</td>\n",
       "    </tr>\n",
       "    <tr>\n",
       "      <th>9126</th>\n",
       "      <td>인천 오후 3시35분 대설주의보…눈 3.1cm 쌓여</td>\n",
       "    </tr>\n",
       "    <tr>\n",
       "      <th>9127</th>\n",
       "      <td>노래방에서 지인 성추행 외교부 사무관 불구속 입건종합</td>\n",
       "    </tr>\n",
       "    <tr>\n",
       "      <th>9128</th>\n",
       "      <td>40년 전 부마항쟁 부산 시위 사진 2점 최초 공개</td>\n",
       "    </tr>\n",
       "    <tr>\n",
       "      <th>9129</th>\n",
       "      <td>게시판 아리랑TV 아프리카개발은행 총회 개회식 생중계</td>\n",
       "    </tr>\n",
       "    <tr>\n",
       "      <th>9130</th>\n",
       "      <td>유영민 과기장관 강소특구는 지역 혁신의 중심…지원책 강구</td>\n",
       "    </tr>\n",
       "  </tbody>\n",
       "</table>\n",
       "<p>9131 rows × 1 columns</p>\n",
       "</div>"
      ],
      "text/plain": [
       "                                title\n",
       "0          유튜브 내달 2일까지 크리에이터 지원 공간 운영\n",
       "1             어버이날 맑다가 흐려져…남부지방 옅은 황사\n",
       "2         내년부터 국가RD 평가 때 논문건수는 반영 않는다\n",
       "3     김명자 신임 과총 회장 원로와 젊은 과학자 지혜 모을 것\n",
       "4      회색인간 작가 김동식 양심고백 등 새 소설집 2권 출간\n",
       "...                               ...\n",
       "9126     인천 오후 3시35분 대설주의보…눈 3.1cm 쌓여\n",
       "9127    노래방에서 지인 성추행 외교부 사무관 불구속 입건종합\n",
       "9128     40년 전 부마항쟁 부산 시위 사진 2점 최초 공개\n",
       "9129    게시판 아리랑TV 아프리카개발은행 총회 개회식 생중계\n",
       "9130  유영민 과기장관 강소특구는 지역 혁신의 중심…지원책 강구\n",
       "\n",
       "[9131 rows x 1 columns]"
      ]
     },
     "execution_count": 50,
     "metadata": {},
     "output_type": "execute_result"
    }
   ],
   "source": [
    "testDf"
   ]
  },
  {
   "cell_type": "code",
   "execution_count": 51,
   "metadata": {},
   "outputs": [],
   "source": [
    "test_list = makeTagging(testDf.title)"
   ]
  },
  {
   "cell_type": "code",
   "execution_count": 52,
   "metadata": {},
   "outputs": [],
   "source": [
    "# 분리한 단어들로 문장 다시 생성하는 함수\n",
    "def makeData(data):\n",
    "    total_list = []\n",
    "    for stc in data:\n",
    "        sentence = ''\n",
    "        for word in stc:\n",
    "            sentence=sentence+' '+word\n",
    "        total_list.append(sentence.strip())\n",
    "    return total_list"
   ]
  },
  {
   "cell_type": "code",
   "execution_count": 53,
   "metadata": {},
   "outputs": [],
   "source": [
    "total_test = makeData(test_list)"
   ]
  },
  {
   "cell_type": "code",
   "execution_count": 54,
   "metadata": {},
   "outputs": [],
   "source": [
    "testDf['new_title'] = total_test"
   ]
  },
  {
   "cell_type": "code",
   "execution_count": 55,
   "metadata": {},
   "outputs": [
    {
     "name": "stdout",
     "output_type": "stream",
     "text": [
      "유튜브 내달 크리에이터 지원 공간 운영\n",
      "어버이날 맑다 흐려지다 남부 지방 옅다 황사\n",
      "내년 국가 평가 논문 건수 반영 않다\n",
      "김명자 신임 과총 회장 원로 젊다 과학자 지혜 모으다\n",
      "회색 인간 작가 동식 양심 고백 소설 추다\n"
     ]
    }
   ],
   "source": [
    "# 데이터 확인\n",
    "for i in range(5):\n",
    "    print(testDf.new_title[i])"
   ]
  },
  {
   "cell_type": "code",
   "execution_count": 56,
   "metadata": {},
   "outputs": [],
   "source": [
    "seq_title=myToken.texts_to_sequences(testDf.new_title)"
   ]
  },
  {
   "cell_type": "code",
   "execution_count": 57,
   "metadata": {},
   "outputs": [],
   "source": [
    "title_seq = pad_sequences(seq_title, maxlen=pad_length)"
   ]
  },
  {
   "cell_type": "code",
   "execution_count": 60,
   "metadata": {},
   "outputs": [],
   "source": [
    "t = []\n",
    "for i in range(len(title_seq)):\n",
    "    t.append(model2.predict([title_seq[[i]]]))"
   ]
  },
  {
   "cell_type": "code",
   "execution_count": 62,
   "metadata": {},
   "outputs": [],
   "source": [
    "topic = []\n",
    "for i in range(len(t)):\n",
    "    topic.append(np.argmax(t[i]))"
   ]
  },
  {
   "cell_type": "code",
   "execution_count": 63,
   "metadata": {},
   "outputs": [],
   "source": [
    "sub['topic_idx'] = topic"
   ]
  },
  {
   "cell_type": "code",
   "execution_count": 64,
   "metadata": {},
   "outputs": [],
   "source": [
    "sub = sub.set_index(keys='index')"
   ]
  },
  {
   "cell_type": "code",
   "execution_count": 65,
   "metadata": {},
   "outputs": [],
   "source": [
    "sub.to_csv('제출용3.csv')"
   ]
  },
  {
   "cell_type": "code",
   "execution_count": null,
   "metadata": {},
   "outputs": [],
   "source": []
  }
 ],
 "metadata": {
  "kernelspec": {
   "display_name": "Python 3 (ipykernel)",
   "language": "python",
   "name": "python3"
  },
  "language_info": {
   "codemirror_mode": {
    "name": "ipython",
    "version": 3
   },
   "file_extension": ".py",
   "mimetype": "text/x-python",
   "name": "python",
   "nbconvert_exporter": "python",
   "pygments_lexer": "ipython3",
   "version": "3.9.12"
  },
  "vscode": {
   "interpreter": {
    "hash": "ad2bdc8ecc057115af97d19610ffacc2b4e99fae6737bb82f5d7fb13d2f2c186"
   }
  }
 },
 "nbformat": 4,
 "nbformat_minor": 2
}
