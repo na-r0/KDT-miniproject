{
 "cells": [
  {
   "cell_type": "markdown",
   "metadata": {},
   "source": [
    "### 주제: 뉴스 토픽 분류 (한국어)\n",
    "---\n",
    "- 출처: https://dacon.io/competitions/official/235747/overview/description"
   ]
  },
  {
   "cell_type": "code",
   "execution_count": 2,
   "metadata": {},
   "outputs": [],
   "source": [
    "# 모듈 로딩\n",
    "import pandas as pd\n",
    "import platform\n",
    "import matplotlib.pyplot as plt\n",
    "from konlpy.tag import Okt\n",
    "from sklearn.model_selection import train_test_split\n",
    "from tensorflow.keras.preprocessing.text import Tokenizer\n",
    "from tensorflow.keras.layers import SimpleRNN, Embedding, Dense, Dropout, LSTM, Bidirectional\n",
    "from tensorflow.keras.models import Sequential\n",
    "from tensorflow.keras.utils import plot_model, to_categorical\n",
    "from tensorflow.keras.preprocessing.sequence import pad_sequences\n",
    "import numpy as np\n",
    "from tensorflow import random # random seed 설정용\n",
    "from sklearn.model_selection import StratifiedKFold"
   ]
  },
  {
   "cell_type": "markdown",
   "metadata": {},
   "source": [
    "[1] 데이터 준비"
   ]
  },
  {
   "cell_type": "code",
   "execution_count": 3,
   "metadata": {},
   "outputs": [],
   "source": [
    "# 데이터 로딩\n",
    "topicDf = pd.read_csv('train_data.csv').iloc[:,1:]\n",
    "topicDict = pd.read_csv('topic_dict.csv')"
   ]
  },
  {
   "cell_type": "code",
   "execution_count": 4,
   "metadata": {},
   "outputs": [
    {
     "data": {
      "text/html": [
       "<div>\n",
       "<style scoped>\n",
       "    .dataframe tbody tr th:only-of-type {\n",
       "        vertical-align: middle;\n",
       "    }\n",
       "\n",
       "    .dataframe tbody tr th {\n",
       "        vertical-align: top;\n",
       "    }\n",
       "\n",
       "    .dataframe thead th {\n",
       "        text-align: right;\n",
       "    }\n",
       "</style>\n",
       "<table border=\"1\" class=\"dataframe\">\n",
       "  <thead>\n",
       "    <tr style=\"text-align: right;\">\n",
       "      <th></th>\n",
       "      <th>title</th>\n",
       "      <th>topic_idx</th>\n",
       "    </tr>\n",
       "  </thead>\n",
       "  <tbody>\n",
       "    <tr>\n",
       "      <th>0</th>\n",
       "      <td>인천→핀란드 항공기 결항…휴가철 여행객 분통</td>\n",
       "      <td>4</td>\n",
       "    </tr>\n",
       "    <tr>\n",
       "      <th>1</th>\n",
       "      <td>실리콘밸리 넘어서겠다…구글 15조원 들여 美전역 거점화</td>\n",
       "      <td>4</td>\n",
       "    </tr>\n",
       "    <tr>\n",
       "      <th>2</th>\n",
       "      <td>이란 외무 긴장완화 해결책은 미국이 경제전쟁 멈추는 것</td>\n",
       "      <td>4</td>\n",
       "    </tr>\n",
       "    <tr>\n",
       "      <th>3</th>\n",
       "      <td>NYT 클린턴 측근韓기업 특수관계 조명…공과 사 맞물려종합</td>\n",
       "      <td>4</td>\n",
       "    </tr>\n",
       "    <tr>\n",
       "      <th>4</th>\n",
       "      <td>시진핑 트럼프에 중미 무역협상 조속 타결 희망</td>\n",
       "      <td>4</td>\n",
       "    </tr>\n",
       "  </tbody>\n",
       "</table>\n",
       "</div>"
      ],
      "text/plain": [
       "                              title  topic_idx\n",
       "0          인천→핀란드 항공기 결항…휴가철 여행객 분통          4\n",
       "1    실리콘밸리 넘어서겠다…구글 15조원 들여 美전역 거점화          4\n",
       "2    이란 외무 긴장완화 해결책은 미국이 경제전쟁 멈추는 것          4\n",
       "3  NYT 클린턴 측근韓기업 특수관계 조명…공과 사 맞물려종합          4\n",
       "4         시진핑 트럼프에 중미 무역협상 조속 타결 희망          4"
      ]
     },
     "execution_count": 4,
     "metadata": {},
     "output_type": "execute_result"
    }
   ],
   "source": [
    "topicDf.head()"
   ]
  },
  {
   "cell_type": "code",
   "execution_count": 5,
   "metadata": {},
   "outputs": [
    {
     "data": {
      "text/plain": [
       "title        0\n",
       "topic_idx    0\n",
       "dtype: int64"
      ]
     },
     "execution_count": 5,
     "metadata": {},
     "output_type": "execute_result"
    }
   ],
   "source": [
    "# 결측치 체크\n",
    "topicDf.isnull().sum()"
   ]
  },
  {
   "cell_type": "code",
   "execution_count": 6,
   "metadata": {},
   "outputs": [
    {
     "data": {
      "text/plain": [
       "0"
      ]
     },
     "execution_count": 6,
     "metadata": {},
     "output_type": "execute_result"
    }
   ],
   "source": [
    "# 중복 데이터 체크\n",
    "topicDf.duplicated().sum()"
   ]
  },
  {
   "cell_type": "code",
   "execution_count": 7,
   "metadata": {},
   "outputs": [
    {
     "data": {
      "text/html": [
       "<div>\n",
       "<style scoped>\n",
       "    .dataframe tbody tr th:only-of-type {\n",
       "        vertical-align: middle;\n",
       "    }\n",
       "\n",
       "    .dataframe tbody tr th {\n",
       "        vertical-align: top;\n",
       "    }\n",
       "\n",
       "    .dataframe thead th {\n",
       "        text-align: right;\n",
       "    }\n",
       "</style>\n",
       "<table border=\"1\" class=\"dataframe\">\n",
       "  <thead>\n",
       "    <tr style=\"text-align: right;\">\n",
       "      <th></th>\n",
       "      <th>topic</th>\n",
       "      <th>topic_idx</th>\n",
       "    </tr>\n",
       "  </thead>\n",
       "  <tbody>\n",
       "    <tr>\n",
       "      <th>0</th>\n",
       "      <td>IT과학</td>\n",
       "      <td>0</td>\n",
       "    </tr>\n",
       "    <tr>\n",
       "      <th>1</th>\n",
       "      <td>경제</td>\n",
       "      <td>1</td>\n",
       "    </tr>\n",
       "    <tr>\n",
       "      <th>2</th>\n",
       "      <td>사회</td>\n",
       "      <td>2</td>\n",
       "    </tr>\n",
       "    <tr>\n",
       "      <th>3</th>\n",
       "      <td>생활문화</td>\n",
       "      <td>3</td>\n",
       "    </tr>\n",
       "    <tr>\n",
       "      <th>4</th>\n",
       "      <td>세계</td>\n",
       "      <td>4</td>\n",
       "    </tr>\n",
       "    <tr>\n",
       "      <th>5</th>\n",
       "      <td>스포츠</td>\n",
       "      <td>5</td>\n",
       "    </tr>\n",
       "    <tr>\n",
       "      <th>6</th>\n",
       "      <td>정치</td>\n",
       "      <td>6</td>\n",
       "    </tr>\n",
       "  </tbody>\n",
       "</table>\n",
       "</div>"
      ],
      "text/plain": [
       "  topic  topic_idx\n",
       "0  IT과학          0\n",
       "1    경제          1\n",
       "2    사회          2\n",
       "3  생활문화          3\n",
       "4    세계          4\n",
       "5   스포츠          5\n",
       "6    정치          6"
      ]
     },
     "execution_count": 7,
     "metadata": {},
     "output_type": "execute_result"
    }
   ],
   "source": [
    "topicDict"
   ]
  },
  {
   "cell_type": "code",
   "execution_count": 8,
   "metadata": {},
   "outputs": [
    {
     "data": {
      "text/html": [
       "<div>\n",
       "<style scoped>\n",
       "    .dataframe tbody tr th:only-of-type {\n",
       "        vertical-align: middle;\n",
       "    }\n",
       "\n",
       "    .dataframe tbody tr th {\n",
       "        vertical-align: top;\n",
       "    }\n",
       "\n",
       "    .dataframe thead th {\n",
       "        text-align: right;\n",
       "    }\n",
       "</style>\n",
       "<table border=\"1\" class=\"dataframe\">\n",
       "  <thead>\n",
       "    <tr style=\"text-align: right;\">\n",
       "      <th></th>\n",
       "      <th>topic_idx</th>\n",
       "      <th>topic</th>\n",
       "    </tr>\n",
       "  </thead>\n",
       "  <tbody>\n",
       "    <tr>\n",
       "      <th>0</th>\n",
       "      <td>4824</td>\n",
       "      <td>IT과학</td>\n",
       "    </tr>\n",
       "    <tr>\n",
       "      <th>1</th>\n",
       "      <td>6222</td>\n",
       "      <td>경제</td>\n",
       "    </tr>\n",
       "    <tr>\n",
       "      <th>2</th>\n",
       "      <td>7362</td>\n",
       "      <td>사회</td>\n",
       "    </tr>\n",
       "    <tr>\n",
       "      <th>3</th>\n",
       "      <td>5933</td>\n",
       "      <td>생활문화</td>\n",
       "    </tr>\n",
       "    <tr>\n",
       "      <th>4</th>\n",
       "      <td>7629</td>\n",
       "      <td>세계</td>\n",
       "    </tr>\n",
       "    <tr>\n",
       "      <th>5</th>\n",
       "      <td>6933</td>\n",
       "      <td>스포츠</td>\n",
       "    </tr>\n",
       "    <tr>\n",
       "      <th>6</th>\n",
       "      <td>6751</td>\n",
       "      <td>정치</td>\n",
       "    </tr>\n",
       "  </tbody>\n",
       "</table>\n",
       "</div>"
      ],
      "text/plain": [
       "   topic_idx topic\n",
       "0       4824  IT과학\n",
       "1       6222    경제\n",
       "2       7362    사회\n",
       "3       5933  생활문화\n",
       "4       7629    세계\n",
       "5       6933   스포츠\n",
       "6       6751    정치"
      ]
     },
     "execution_count": 8,
     "metadata": {},
     "output_type": "execute_result"
    }
   ],
   "source": [
    "topic_count = pd.DataFrame(topicDf.topic_idx.value_counts().sort_index())\n",
    "topic_count['topic'] = topicDict.topic\n",
    "topic_count"
   ]
  },
  {
   "cell_type": "code",
   "execution_count": 9,
   "metadata": {},
   "outputs": [
    {
     "data": {
      "image/png": "[encoded data removed]",
      "text/plain": [
       "<Figure size 432x288 with 1 Axes>"
      ]
     },
     "metadata": {
      "needs_background": "light"
     },
     "output_type": "display_data"
    }
   ],
   "source": [
    "# topic label 분포도\n",
    "if platform.system()=='Windows':\n",
    "    plt.rc('font',family='Malgun Gothic')\n",
    "else:\n",
    "    plt.rc('font',family='AppleGothic')\n",
    "        \n",
    "plt.bar(topic_count.topic, topic_count.topic_idx, color='tomato')\n",
    "plt.show()"
   ]
  },
  {
   "cell_type": "markdown",
   "metadata": {},
   "source": [
    "[2] 데이터 처리"
   ]
  },
  {
   "cell_type": "code",
   "execution_count": 10,
   "metadata": {},
   "outputs": [],
   "source": [
    "# 형태소 분리 객체\n",
    "okt = Okt()"
   ]
  },
  {
   "cell_type": "code",
   "execution_count": 11,
   "metadata": {},
   "outputs": [],
   "source": [
    "# 형태소 분리 후 태깅하는 함수\n",
    "def makeTagging(data):\n",
    "    result_list = []\n",
    "    for title in data:\n",
    "        result = []\n",
    "        for word in okt.pos(title, stem=True): # 어간 추출\n",
    "            if word[1] in ['Noun', 'Verb', 'Adjective']: # 'Noun'-명사, 'Verb'-동사, 'Adjective'-형용사 \n",
    "                if(len(word[0])>1): # 한 글자 단어들 빼줌\n",
    "                    result.append(word[0])\n",
    "        result_list.append(result)\n",
    "    return result_list"
   ]
  },
  {
   "cell_type": "code",
   "execution_count": 12,
   "metadata": {},
   "outputs": [],
   "source": [
    "result_list = makeTagging(topicDf.title)"
   ]
  },
  {
   "cell_type": "code",
   "execution_count": 13,
   "metadata": {},
   "outputs": [
    {
     "name": "stdout",
     "output_type": "stream",
     "text": [
      "['인천', '핀란드', '항공기', '결항', '휴가', '여행객', '분통']\n",
      "['실리콘밸리', '넘어서다', '구글', '들이다', '전역', '거점']\n",
      "['이란', '외무', '긴장', '완화', '해결', '미국', '경제', '전쟁', '멈추다']\n",
      "['클린턴', '측근', '기업', '특수', '관계', '조명', '공과', '맞다', '물리다', '종합']\n",
      "['시진핑', '트럼프', '중미', '무역', '협상', '조속', '타결', '희망']\n"
     ]
    }
   ],
   "source": [
    "# 데이터 확인\n",
    "for i in range(5):\n",
    "    print(result_list[i])"
   ]
  },
  {
   "cell_type": "code",
   "execution_count": 14,
   "metadata": {},
   "outputs": [],
   "source": [
    "# 분리한 단어들로 문장 다시 생성하는 함수\n",
    "def makeData(data):\n",
    "    total_list = []\n",
    "    for stc in data:\n",
    "        sentence = ''\n",
    "        for word in stc:\n",
    "            sentence=sentence+' '+word\n",
    "        total_list.append(sentence.strip())\n",
    "    return total_list"
   ]
  },
  {
   "cell_type": "code",
   "execution_count": 15,
   "metadata": {},
   "outputs": [],
   "source": [
    "total_data = makeData(result_list)"
   ]
  },
  {
   "cell_type": "code",
   "execution_count": 16,
   "metadata": {},
   "outputs": [],
   "source": [
    "topicDf['new_title'] = total_data"
   ]
  },
  {
   "cell_type": "code",
   "execution_count": 17,
   "metadata": {},
   "outputs": [
    {
     "name": "stdout",
     "output_type": "stream",
     "text": [
      "인천 핀란드 항공기 결항 휴가 여행객 분통\n",
      "실리콘밸리 넘어서다 구글 들이다 전역 거점\n",
      "이란 외무 긴장 완화 해결 미국 경제 전쟁 멈추다\n",
      "클린턴 측근 기업 특수 관계 조명 공과 맞다 물리다 종합\n",
      "시진핑 트럼프 중미 무역 협상 조속 타결 희망\n"
     ]
    }
   ],
   "source": [
    "# 데이터 확인\n",
    "for i in range(5):\n",
    "    print(topicDf.new_title[i])"
   ]
  },
  {
   "cell_type": "code",
   "execution_count": 131,
   "metadata": {},
   "outputs": [],
   "source": [
    "# 비율에 맞게 학습/테스트 데이터 분활\n",
    "X_train, X_test, y_train, y_test = train_test_split(topicDf.new_title, \n",
    "                                                    topicDf.topic_idx, \n",
    "                                                    test_size=0.2, \n",
    "                                                    stratify=topicDf.topic_idx,\n",
    "                                                    random_state=11)"
   ]
  },
  {
   "cell_type": "code",
   "execution_count": 132,
   "metadata": {},
   "outputs": [],
   "source": [
    "X_train, X_val, y_train, y_val = train_test_split(X_train, \n",
    "                                                  y_train, \n",
    "                                                  test_size=0.2, \n",
    "                                                  stratify=y_train,\n",
    "                                                  random_state=11)"
   ]
  },
  {
   "cell_type": "code",
   "execution_count": 133,
   "metadata": {},
   "outputs": [],
   "source": [
    "# 인덱스 초기화\n",
    "X_train = X_train.reset_index().iloc[:,1]\n",
    "X_test = X_test.reset_index().iloc[:,1]\n",
    "X_val = X_val.reset_index().iloc[:,1]\n",
    "y_train = y_train.reset_index().iloc[:,1]\n",
    "y_test = y_test.reset_index().iloc[:,1]\n",
    "y_val = y_val.reset_index().iloc[:,1]"
   ]
  },
  {
   "cell_type": "code",
   "execution_count": 134,
   "metadata": {},
   "outputs": [
    {
     "name": "stdout",
     "output_type": "stream",
     "text": [
      "X_train : (29218,), X_test : (9131,) , X_val : (7305,)\n"
     ]
    }
   ],
   "source": [
    "print(f'X_train : {X_train.shape}, X_test : {X_test.shape} , X_val : {X_val.shape}')"
   ]
  },
  {
   "cell_type": "markdown",
   "metadata": {},
   "source": [
    "[3] 단어사전 생성"
   ]
  },
  {
   "cell_type": "markdown",
   "metadata": {},
   "source": [
    "[3-1] 단어사전 생성 및 사용할 단어사전 수 설정"
   ]
  },
  {
   "cell_type": "code",
   "execution_count": 22,
   "metadata": {},
   "outputs": [],
   "source": [
    "# 단어사전 생성하는 함수\n",
    "def makeVoca(numWord=0):\n",
    "    if numWord>0:\n",
    "        myToken=Tokenizer(num_words=numWord)\n",
    "    else:\n",
    "        myToken=Tokenizer()\n",
    "    \n",
    "    # 단어사전(voca) 생성\n",
    "    myToken.fit_on_texts(X_train)   \n",
    "    return myToken"
   ]
  },
  {
   "cell_type": "code",
   "execution_count": 23,
   "metadata": {},
   "outputs": [
    {
     "name": "stdout",
     "output_type": "stream",
     "text": [
      "word index: 21285\n"
     ]
    }
   ],
   "source": [
    "# 텍스트 데이터 토큰화 진행\n",
    "myToken=makeVoca()\n",
    "print('word index: {}'.format(len(myToken.word_index)))"
   ]
  },
  {
   "cell_type": "code",
   "execution_count": 24,
   "metadata": {},
   "outputs": [
    {
     "data": {
      "image/png": "[encoded data removed]",
      "text/plain": [
       "<Figure size 432x288 with 1 Axes>"
      ]
     },
     "metadata": {
      "needs_background": "light"
     },
     "output_type": "display_data"
    },
    {
     "name": "stdout",
     "output_type": "stream",
     "text": [
      "전체 토큰 수 : 21285\n",
      "전체 토큰 빈도 수 : 206147\n",
      "8500 위 까지 등장 토큰 빈도수 : 176998\n",
      "비율 : 85.86009012985879\n"
     ]
    }
   ],
   "source": [
    "num_words = 8500\n",
    "word_counts = dict(myToken.word_counts.items())\n",
    "counts = list(word_counts.values())\n",
    "\n",
    "plt.hist(np.log10(counts))\n",
    "plt.show()\n",
    "print('전체 토큰 수 :', len(counts))\n",
    "print('전체 토큰 빈도 수 :',np.sum(counts))\n",
    "print(num_words,'위 까지 등장 토큰 빈도수 :', np.sum(counts[:num_words]))\n",
    "print('비율 :',np.sum(counts[:num_words])/np.sum(counts) *100 )"
   ]
  },
  {
   "cell_type": "code",
   "execution_count": 25,
   "metadata": {},
   "outputs": [
    {
     "name": "stdout",
     "output_type": "stream",
     "text": [
      "word index: 21285\n"
     ]
    }
   ],
   "source": [
    "myToken=makeVoca(num_words)\n",
    "print('word index: {}'.format(len(myToken.word_index)))"
   ]
  },
  {
   "cell_type": "markdown",
   "metadata": {},
   "source": [
    "[3-2] 텍스트 => 정수 수치화 (생성한 단어사전 기반)"
   ]
  },
  {
   "cell_type": "code",
   "execution_count": 135,
   "metadata": {},
   "outputs": [],
   "source": [
    "seq_train=myToken.texts_to_sequences(X_train)\n",
    "seq_test=myToken.texts_to_sequences(X_test)\n",
    "seq_val=myToken.texts_to_sequences(X_val)"
   ]
  },
  {
   "cell_type": "code",
   "execution_count": 136,
   "metadata": {},
   "outputs": [],
   "source": [
    "# 패딩 길이 설정 \n",
    "def checkLength(datas):\n",
    "    length = []\n",
    "    for data in datas:\n",
    "        length.append(len(data))\n",
    "    plt.hist(length)\n",
    "    plt.xlabel('length')\n",
    "    plt.show()\n",
    "    return length"
   ]
  },
  {
   "cell_type": "code",
   "execution_count": 137,
   "metadata": {},
   "outputs": [
    {
     "data": {
      "image/png": "[encoded data removed]",
      "text/plain": [
       "<Figure size 432x288 with 1 Axes>"
      ]
     },
     "metadata": {
      "needs_background": "light"
     },
     "output_type": "display_data"
    }
   ],
   "source": [
    "length=checkLength(seq_train)"
   ]
  },
  {
   "cell_type": "code",
   "execution_count": 138,
   "metadata": {},
   "outputs": [],
   "source": [
    "pad_length = max(length)"
   ]
  },
  {
   "cell_type": "code",
   "execution_count": 139,
   "metadata": {},
   "outputs": [],
   "source": [
    "train_seq = pad_sequences(seq_train, maxlen=pad_length)\n",
    "test_seq = pad_sequences(seq_test, maxlen=pad_length)\n",
    "val_seq = pad_sequences(seq_val, maxlen=pad_length)"
   ]
  },
  {
   "cell_type": "code",
   "execution_count": 140,
   "metadata": {},
   "outputs": [
    {
     "data": {
      "text/plain": [
       "((29218, 14), (9131, 14), (7305, 14))"
      ]
     },
     "execution_count": 140,
     "metadata": {},
     "output_type": "execute_result"
    }
   ],
   "source": [
    "train_seq.shape, test_seq.shape, val_seq.shape"
   ]
  },
  {
   "cell_type": "markdown",
   "metadata": {},
   "source": [
    "[4] 모델 구성"
   ]
  },
  {
   "cell_type": "markdown",
   "metadata": {},
   "source": [
    "방법 1. 심플RNN\n",
    "\n",
    "---"
   ]
  },
  {
   "cell_type": "code",
   "execution_count": 122,
   "metadata": {},
   "outputs": [],
   "source": [
    "random.set_seed(11)"
   ]
  },
  {
   "cell_type": "code",
   "execution_count": 123,
   "metadata": {},
   "outputs": [
    {
     "name": "stdout",
     "output_type": "stream",
     "text": [
      "Model: \"sequential_8\"\n",
      "_________________________________________________________________\n",
      " Layer (type)                Output Shape              Param #   \n",
      "=================================================================\n",
      " embedding_8 (Embedding)     (None, 14, 32)            272000    \n",
      "                                                                 \n",
      " dropout_16 (Dropout)        (None, 14, 32)            0         \n",
      "                                                                 \n",
      " simple_rnn_5 (SimpleRNN)    (None, 64)                6208      \n",
      "                                                                 \n",
      " dropout_17 (Dropout)        (None, 64)                0         \n",
      "                                                                 \n",
      " dense_8 (Dense)             (None, 7)                 455       \n",
      "                                                                 \n",
      "=================================================================\n",
      "Total params: 278,663\n",
      "Trainable params: 278,663\n",
      "Non-trainable params: 0\n",
      "_________________________________________________________________\n"
     ]
    }
   ],
   "source": [
    "model = Sequential()\n",
    "model.add(Embedding(num_words, 32, input_length=pad_length))\n",
    "model.add(Dropout(0.2))\n",
    "model.add(SimpleRNN(64))\n",
    "model.add(Dropout(0.3))\n",
    "model.add(Dense(7, activation='softmax'))\n",
    "\n",
    "model.summary()"
   ]
  },
  {
   "cell_type": "code",
   "execution_count": 124,
   "metadata": {},
   "outputs": [
    {
     "data": {
      "image/png": "[encoded data removed]",
      "text/plain": [
       "<IPython.core.display.Image object>"
      ]
     },
     "execution_count": 124,
     "metadata": {},
     "output_type": "execute_result"
    }
   ],
   "source": [
    "plot_model(model, show_shapes=True)"
   ]
  },
  {
   "cell_type": "code",
   "execution_count": 125,
   "metadata": {},
   "outputs": [],
   "source": [
    "model.compile(optimizer='adam', \n",
    "              loss='sparse_categorical_crossentropy', \n",
    "              metrics=['accuracy'])"
   ]
  },
  {
   "cell_type": "code",
   "execution_count": 126,
   "metadata": {},
   "outputs": [
    {
     "name": "stdout",
     "output_type": "stream",
     "text": [
      "Epoch 1/5\n",
      "457/457 [==============================] - 4s 6ms/step - loss: 1.1845 - accuracy: 0.5552 - val_loss: 0.7254 - val_accuracy: 0.7608\n",
      "Epoch 2/5\n",
      "457/457 [==============================] - 2s 5ms/step - loss: 0.5634 - accuracy: 0.8196 - val_loss: 0.6407 - val_accuracy: 0.7836\n",
      "Epoch 3/5\n",
      "457/457 [==============================] - 2s 5ms/step - loss: 0.4138 - accuracy: 0.8674 - val_loss: 0.6943 - val_accuracy: 0.7752\n",
      "Epoch 4/5\n",
      "457/457 [==============================] - 2s 5ms/step - loss: 0.3283 - accuracy: 0.8954 - val_loss: 0.7050 - val_accuracy: 0.7830\n",
      "Epoch 5/5\n",
      "457/457 [==============================] - 2s 5ms/step - loss: 0.2646 - accuracy: 0.9141 - val_loss: 0.7686 - val_accuracy: 0.7828\n"
     ]
    }
   ],
   "source": [
    "hist = model.fit(train_seq, y_train, \n",
    "                epochs=5, \n",
    "                batch_size=64, \n",
    "                validation_data=(val_seq, y_val))"
   ]
  },
  {
   "cell_type": "code",
   "execution_count": 127,
   "metadata": {},
   "outputs": [
    {
     "data": {
      "image/png": "[encoded data removed]",
      "text/plain": [
       "<Figure size 936x288 with 2 Axes>"
      ]
     },
     "metadata": {
      "needs_background": "light"
     },
     "output_type": "display_data"
    }
   ],
   "source": [
    "plt.figure(figsize=(13,4))\n",
    "plt.subplot(121)\n",
    "plt.plot(hist.epoch, hist.history['loss'])\n",
    "plt.plot(hist.epoch, hist.history['val_loss'])\n",
    "plt.legend(['loss', 'val_loss'])\n",
    "plt.grid()\n",
    "plt.subplot(122)\n",
    "plt.plot(hist.epoch, hist.history['accuracy'])\n",
    "plt.plot(hist.epoch, hist.history['val_accuracy'])\n",
    "plt.legend(['accuracy', 'val_accuracy'])\n",
    "plt.grid()\n",
    "plt.show()"
   ]
  },
  {
   "cell_type": "code",
   "execution_count": 141,
   "metadata": {},
   "outputs": [
    {
     "name": "stdout",
     "output_type": "stream",
     "text": [
      "286/286 [==============================] - 1s 2ms/step - loss: 0.7833 - accuracy: 0.7798\n"
     ]
    },
    {
     "data": {
      "text/plain": [
       "[0.7833303809165955, 0.7797612547874451]"
      ]
     },
     "execution_count": 141,
     "metadata": {},
     "output_type": "execute_result"
    }
   ],
   "source": [
    "model.evaluate(test_seq, y_test)"
   ]
  },
  {
   "cell_type": "markdown",
   "metadata": {},
   "source": [
    "방법 2. 양방향 LSTM\n",
    "\n",
    "---"
   ]
  },
  {
   "cell_type": "code",
   "execution_count": 142,
   "metadata": {},
   "outputs": [],
   "source": [
    "random.set_seed(11)"
   ]
  },
  {
   "cell_type": "code",
   "execution_count": 143,
   "metadata": {},
   "outputs": [
    {
     "name": "stdout",
     "output_type": "stream",
     "text": [
      "Model: \"sequential_9\"\n",
      "_________________________________________________________________\n",
      " Layer (type)                Output Shape              Param #   \n",
      "=================================================================\n",
      " embedding_9 (Embedding)     (None, 14, 32)            272000    \n",
      "                                                                 \n",
      " bidirectional_6 (Bidirectio  (None, 14, 64)           16640     \n",
      " nal)                                                            \n",
      "                                                                 \n",
      " dropout_18 (Dropout)        (None, 14, 64)            0         \n",
      "                                                                 \n",
      " bidirectional_7 (Bidirectio  (None, 64)               24832     \n",
      " nal)                                                            \n",
      "                                                                 \n",
      " dropout_19 (Dropout)        (None, 64)                0         \n",
      "                                                                 \n",
      " dense_9 (Dense)             (None, 7)                 455       \n",
      "                                                                 \n",
      "=================================================================\n",
      "Total params: 313,927\n",
      "Trainable params: 313,927\n",
      "Non-trainable params: 0\n",
      "_________________________________________________________________\n"
     ]
    }
   ],
   "source": [
    "model2 = Sequential()\n",
    "model2.add(Embedding(num_words, 32, input_length=pad_length))\n",
    "model2.add(Bidirectional(LSTM(units=32, return_sequences=True)))\n",
    "model2.add(Dropout(0.3))\n",
    "model2.add(Bidirectional(LSTM(units=32)))\n",
    "model2.add(Dropout(0.3))\n",
    "model2.add(Dense(7, activation='softmax'))\n",
    "\n",
    "model2.summary()"
   ]
  },
  {
   "cell_type": "code",
   "execution_count": 144,
   "metadata": {},
   "outputs": [],
   "source": [
    "model2.compile(optimizer='adam', \n",
    "              loss='sparse_categorical_crossentropy', \n",
    "              metrics=['accuracy'])"
   ]
  },
  {
   "cell_type": "code",
   "execution_count": 145,
   "metadata": {},
   "outputs": [
    {
     "name": "stdout",
     "output_type": "stream",
     "text": [
      "Epoch 1/5\n",
      "457/457 [==============================] - 17s 22ms/step - loss: 1.0924 - accuracy: 0.5740 - val_loss: 0.6771 - val_accuracy: 0.7717\n",
      "Epoch 2/5\n",
      "457/457 [==============================] - 7s 15ms/step - loss: 0.5165 - accuracy: 0.8346 - val_loss: 0.6500 - val_accuracy: 0.7892\n",
      "Epoch 3/5\n",
      "457/457 [==============================] - 8s 17ms/step - loss: 0.3847 - accuracy: 0.8798 - val_loss: 0.6661 - val_accuracy: 0.7875\n",
      "Epoch 4/5\n",
      "457/457 [==============================] - 7s 16ms/step - loss: 0.3085 - accuracy: 0.9069 - val_loss: 0.7241 - val_accuracy: 0.7840\n",
      "Epoch 5/5\n",
      "457/457 [==============================] - 7s 15ms/step - loss: 0.2526 - accuracy: 0.9253 - val_loss: 0.7562 - val_accuracy: 0.7832\n"
     ]
    }
   ],
   "source": [
    "hist2 = model2.fit(train_seq, y_train, \n",
    "                epochs=5, \n",
    "                batch_size=64, \n",
    "                validation_data=(val_seq, y_val))"
   ]
  },
  {
   "cell_type": "code",
   "execution_count": 146,
   "metadata": {},
   "outputs": [
    {
     "data": {
      "image/png": "[encoded data removed]",
      "text/plain": [
       "<Figure size 936x288 with 2 Axes>"
      ]
     },
     "metadata": {
      "needs_background": "light"
     },
     "output_type": "display_data"
    }
   ],
   "source": [
    "plt.figure(figsize=(13,4))\n",
    "plt.subplot(121)\n",
    "plt.plot(hist2.epoch, hist2.history['loss'])\n",
    "plt.plot(hist2.epoch, hist2.history['val_loss'])\n",
    "plt.legend(['loss', 'val_loss'])\n",
    "plt.grid()\n",
    "plt.subplot(122)\n",
    "plt.plot(hist2.epoch, hist2.history['accuracy'])\n",
    "plt.plot(hist2.epoch, hist2.history['val_accuracy'])\n",
    "plt.legend(['accuracy', 'val_accuracy'])\n",
    "plt.grid()\n",
    "plt.show()"
   ]
  },
  {
   "cell_type": "code",
   "execution_count": 148,
   "metadata": {},
   "outputs": [
    {
     "name": "stdout",
     "output_type": "stream",
     "text": [
      "286/286 [==============================] - 1s 5ms/step - loss: 0.7725 - accuracy: 0.7858\n"
     ]
    },
    {
     "data": {
      "text/plain": [
       "[0.7724987864494324, 0.7857846617698669]"
      ]
     },
     "execution_count": 148,
     "metadata": {},
     "output_type": "execute_result"
    }
   ],
   "source": [
    "model2.evaluate(test_seq, y_test)"
   ]
  },
  {
   "cell_type": "markdown",
   "metadata": {},
   "source": [
    "test_data.csv로 예측\n",
    "\n",
    "---"
   ]
  },
  {
   "cell_type": "code",
   "execution_count": 149,
   "metadata": {},
   "outputs": [],
   "source": [
    "# 데이터 로딩\n",
    "testDf = pd.read_csv('test_data.csv').iloc[:,1:]\n",
    "sub = pd.read_csv('sample_submission.csv')"
   ]
  },
  {
   "cell_type": "code",
   "execution_count": 150,
   "metadata": {},
   "outputs": [
    {
     "data": {
      "text/html": [
       "<div>\n",
       "<style scoped>\n",
       "    .dataframe tbody tr th:only-of-type {\n",
       "        vertical-align: middle;\n",
       "    }\n",
       "\n",
       "    .dataframe tbody tr th {\n",
       "        vertical-align: top;\n",
       "    }\n",
       "\n",
       "    .dataframe thead th {\n",
       "        text-align: right;\n",
       "    }\n",
       "</style>\n",
       "<table border=\"1\" class=\"dataframe\">\n",
       "  <thead>\n",
       "    <tr style=\"text-align: right;\">\n",
       "      <th></th>\n",
       "      <th>title</th>\n",
       "    </tr>\n",
       "  </thead>\n",
       "  <tbody>\n",
       "    <tr>\n",
       "      <th>0</th>\n",
       "      <td>유튜브 내달 2일까지 크리에이터 지원 공간 운영</td>\n",
       "    </tr>\n",
       "    <tr>\n",
       "      <th>1</th>\n",
       "      <td>어버이날 맑다가 흐려져…남부지방 옅은 황사</td>\n",
       "    </tr>\n",
       "    <tr>\n",
       "      <th>2</th>\n",
       "      <td>내년부터 국가RD 평가 때 논문건수는 반영 않는다</td>\n",
       "    </tr>\n",
       "    <tr>\n",
       "      <th>3</th>\n",
       "      <td>김명자 신임 과총 회장 원로와 젊은 과학자 지혜 모을 것</td>\n",
       "    </tr>\n",
       "    <tr>\n",
       "      <th>4</th>\n",
       "      <td>회색인간 작가 김동식 양심고백 등 새 소설집 2권 출간</td>\n",
       "    </tr>\n",
       "    <tr>\n",
       "      <th>...</th>\n",
       "      <td>...</td>\n",
       "    </tr>\n",
       "    <tr>\n",
       "      <th>9126</th>\n",
       "      <td>인천 오후 3시35분 대설주의보…눈 3.1cm 쌓여</td>\n",
       "    </tr>\n",
       "    <tr>\n",
       "      <th>9127</th>\n",
       "      <td>노래방에서 지인 성추행 외교부 사무관 불구속 입건종합</td>\n",
       "    </tr>\n",
       "    <tr>\n",
       "      <th>9128</th>\n",
       "      <td>40년 전 부마항쟁 부산 시위 사진 2점 최초 공개</td>\n",
       "    </tr>\n",
       "    <tr>\n",
       "      <th>9129</th>\n",
       "      <td>게시판 아리랑TV 아프리카개발은행 총회 개회식 생중계</td>\n",
       "    </tr>\n",
       "    <tr>\n",
       "      <th>9130</th>\n",
       "      <td>유영민 과기장관 강소특구는 지역 혁신의 중심…지원책 강구</td>\n",
       "    </tr>\n",
       "  </tbody>\n",
       "</table>\n",
       "<p>9131 rows × 1 columns</p>\n",
       "</div>"
      ],
      "text/plain": [
       "                                title\n",
       "0          유튜브 내달 2일까지 크리에이터 지원 공간 운영\n",
       "1             어버이날 맑다가 흐려져…남부지방 옅은 황사\n",
       "2         내년부터 국가RD 평가 때 논문건수는 반영 않는다\n",
       "3     김명자 신임 과총 회장 원로와 젊은 과학자 지혜 모을 것\n",
       "4      회색인간 작가 김동식 양심고백 등 새 소설집 2권 출간\n",
       "...                               ...\n",
       "9126     인천 오후 3시35분 대설주의보…눈 3.1cm 쌓여\n",
       "9127    노래방에서 지인 성추행 외교부 사무관 불구속 입건종합\n",
       "9128     40년 전 부마항쟁 부산 시위 사진 2점 최초 공개\n",
       "9129    게시판 아리랑TV 아프리카개발은행 총회 개회식 생중계\n",
       "9130  유영민 과기장관 강소특구는 지역 혁신의 중심…지원책 강구\n",
       "\n",
       "[9131 rows x 1 columns]"
      ]
     },
     "execution_count": 150,
     "metadata": {},
     "output_type": "execute_result"
    }
   ],
   "source": [
    "testDf"
   ]
  },
  {
   "cell_type": "code",
   "execution_count": 152,
   "metadata": {},
   "outputs": [],
   "source": [
    "test_list = makeTagging(testDf.title)"
   ]
  },
  {
   "cell_type": "code",
   "execution_count": 153,
   "metadata": {},
   "outputs": [],
   "source": [
    "# 분리한 단어들로 문장 다시 생성하는 함수\n",
    "def makeData(data):\n",
    "    total_list = []\n",
    "    for stc in data:\n",
    "        sentence = ''\n",
    "        for word in stc:\n",
    "            sentence=sentence+' '+word\n",
    "        total_list.append(sentence.strip())\n",
    "    return total_list"
   ]
  },
  {
   "cell_type": "code",
   "execution_count": 154,
   "metadata": {},
   "outputs": [],
   "source": [
    "total_test = makeData(test_list)"
   ]
  },
  {
   "cell_type": "code",
   "execution_count": 155,
   "metadata": {},
   "outputs": [],
   "source": [
    "testDf['new_title'] = total_test"
   ]
  },
  {
   "cell_type": "code",
   "execution_count": 156,
   "metadata": {},
   "outputs": [
    {
     "name": "stdout",
     "output_type": "stream",
     "text": [
      "유튜브 내달 크리에이터 지원 공간 운영\n",
      "어버이날 맑다 흐려지다 남부 지방 옅다 황사\n",
      "내년 국가 평가 논문 건수 반영 않다\n",
      "김명자 신임 과총 회장 원로 젊다 과학자 지혜 모으다\n",
      "회색 인간 작가 동식 양심 고백 소설 추다\n"
     ]
    }
   ],
   "source": [
    "# 데이터 확인\n",
    "for i in range(5):\n",
    "    print(testDf.new_title[i])"
   ]
  },
  {
   "cell_type": "code",
   "execution_count": 157,
   "metadata": {},
   "outputs": [],
   "source": [
    "seq_title=myToken.texts_to_sequences(testDf.new_title)"
   ]
  },
  {
   "cell_type": "code",
   "execution_count": 158,
   "metadata": {},
   "outputs": [],
   "source": [
    "title_seq = pad_sequences(seq_title, maxlen=pad_length)"
   ]
  },
  {
   "cell_type": "code",
   "execution_count": 159,
   "metadata": {},
   "outputs": [
    {
     "data": {
      "text/plain": [
       "array([   0,    0,    0,    0,    0,    0,    0,    0,    0, 1307,  132,\n",
       "         20, 1566,  268])"
      ]
     },
     "execution_count": 159,
     "metadata": {},
     "output_type": "execute_result"
    }
   ],
   "source": [
    "title_seq[0]"
   ]
  },
  {
   "cell_type": "code",
   "execution_count": 160,
   "metadata": {},
   "outputs": [
    {
     "data": {
      "text/plain": [
       "array([   0,    0,    0,    0,    0,    0,    0,    0,    0,   26, 1486,\n",
       "       2320,  158,    2])"
      ]
     },
     "execution_count": 160,
     "metadata": {},
     "output_type": "execute_result"
    }
   ],
   "source": [
    "title_seq[15]"
   ]
  },
  {
   "cell_type": "code",
   "execution_count": 166,
   "metadata": {},
   "outputs": [],
   "source": [
    "q = []\n",
    "for i in range(len(title_seq)):\n",
    "    q.append(model2.predict([title_seq[[i]]]))"
   ]
  },
  {
   "cell_type": "code",
   "execution_count": 168,
   "metadata": {},
   "outputs": [],
   "source": [
    "topic = []\n",
    "for i in range(len(q)):\n",
    "    topic.append(np.argmax(q[i]))"
   ]
  },
  {
   "cell_type": "code",
   "execution_count": 170,
   "metadata": {},
   "outputs": [],
   "source": [
    "sub['topic_idx'] = topic"
   ]
  },
  {
   "cell_type": "code",
   "execution_count": 171,
   "metadata": {},
   "outputs": [],
   "source": [
    "sub = sub.set_index(keys='index')"
   ]
  },
  {
   "cell_type": "code",
   "execution_count": 172,
   "metadata": {},
   "outputs": [],
   "source": [
    "sub.to_csv('제출용1.csv')"
   ]
  },
  {
   "cell_type": "markdown",
   "metadata": {},
   "source": [
    "---"
   ]
  },
  {
   "cell_type": "code",
   "execution_count": 189,
   "metadata": {},
   "outputs": [],
   "source": [
    "random.set_seed(11)"
   ]
  },
  {
   "cell_type": "code",
   "execution_count": 190,
   "metadata": {},
   "outputs": [
    {
     "name": "stdout",
     "output_type": "stream",
     "text": [
      "Model: \"sequential_12\"\n",
      "_________________________________________________________________\n",
      " Layer (type)                Output Shape              Param #   \n",
      "=================================================================\n",
      " embedding_12 (Embedding)    (None, 14, 32)            272000    \n",
      "                                                                 \n",
      " bidirectional_12 (Bidirecti  (None, 14, 64)           16640     \n",
      " onal)                                                           \n",
      "                                                                 \n",
      " dropout_24 (Dropout)        (None, 14, 64)            0         \n",
      "                                                                 \n",
      " bidirectional_13 (Bidirecti  (None, 64)               24832     \n",
      " onal)                                                           \n",
      "                                                                 \n",
      " dropout_25 (Dropout)        (None, 64)                0         \n",
      "                                                                 \n",
      " dense_12 (Dense)            (None, 7)                 455       \n",
      "                                                                 \n",
      "=================================================================\n",
      "Total params: 313,927\n",
      "Trainable params: 313,927\n",
      "Non-trainable params: 0\n",
      "_________________________________________________________________\n"
     ]
    }
   ],
   "source": [
    "model3 = Sequential()\n",
    "model3.add(Embedding(num_words, 32, input_length=pad_length))\n",
    "model3.add(Bidirectional(LSTM(units=32, return_sequences=True)))\n",
    "model3.add(Dropout(0.3))\n",
    "model3.add(Bidirectional(LSTM(units=32)))\n",
    "model3.add(Dropout(0.3))\n",
    "model3.add(Dense(7, activation='softmax'))\n",
    "\n",
    "model3.summary()"
   ]
  },
  {
   "cell_type": "code",
   "execution_count": 191,
   "metadata": {},
   "outputs": [],
   "source": [
    "model3.compile(optimizer='adam', \n",
    "              loss='sparse_categorical_crossentropy', \n",
    "              metrics=['accuracy'])"
   ]
  },
  {
   "cell_type": "code",
   "execution_count": 192,
   "metadata": {},
   "outputs": [],
   "source": [
    "# 모델 체크포인트 생성\n",
    "from keras.callbacks import ModelCheckpoint\n",
    "\n",
    "path='./{epoch:02d}-{val_accuracy:.4f}.hdf5'\n",
    "model_ckpt = ModelCheckpoint(path, save_best_only=True, monitor='val_accuracy')"
   ]
  },
  {
   "cell_type": "code",
   "execution_count": 193,
   "metadata": {},
   "outputs": [
    {
     "name": "stdout",
     "output_type": "stream",
     "text": [
      "training model for CV #1\n",
      "Epoch 1/10\n",
      "46/46 [==============================] - 14s 154ms/step - loss: 1.8750 - accuracy: 0.2412 - val_loss: 1.5962 - val_accuracy: 0.3232\n",
      "Epoch 2/10\n",
      "46/46 [==============================] - 4s 84ms/step - loss: 1.1598 - accuracy: 0.5388 - val_loss: 0.9094 - val_accuracy: 0.6976\n",
      "Epoch 3/10\n",
      "46/46 [==============================] - 5s 106ms/step - loss: 0.7128 - accuracy: 0.7356 - val_loss: 0.7741 - val_accuracy: 0.7057\n",
      "Epoch 4/10\n",
      "46/46 [==============================] - 4s 84ms/step - loss: 0.5295 - accuracy: 0.8133 - val_loss: 0.7565 - val_accuracy: 0.7582\n",
      "Epoch 5/10\n",
      "46/46 [==============================] - 4s 84ms/step - loss: 0.3970 - accuracy: 0.8782 - val_loss: 0.7394 - val_accuracy: 0.7740\n",
      "Epoch 6/10\n",
      "46/46 [==============================] - 5s 107ms/step - loss: 0.3059 - accuracy: 0.9126 - val_loss: 0.7684 - val_accuracy: 0.7806\n",
      "Epoch 7/10\n",
      "46/46 [==============================] - 4s 81ms/step - loss: 0.2500 - accuracy: 0.9302 - val_loss: 0.8325 - val_accuracy: 0.7767\n",
      "Epoch 8/10\n",
      "46/46 [==============================] - 4s 82ms/step - loss: 0.2078 - accuracy: 0.9441 - val_loss: 0.8962 - val_accuracy: 0.7752\n",
      "Epoch 9/10\n",
      "46/46 [==============================] - 4s 82ms/step - loss: 0.1857 - accuracy: 0.9511 - val_loss: 0.9282 - val_accuracy: 0.7758\n",
      "Epoch 10/10\n",
      "46/46 [==============================] - 4s 83ms/step - loss: 0.1545 - accuracy: 0.9609 - val_loss: 0.9962 - val_accuracy: 0.7729\n",
      "training model for CV #2\n",
      "Epoch 1/10\n",
      "46/46 [==============================] - 4s 96ms/step - loss: 0.3357 - accuracy: 0.9134 - val_loss: 0.1569 - val_accuracy: 0.9624\n",
      "Epoch 2/10\n",
      "46/46 [==============================] - 4s 95ms/step - loss: 0.2363 - accuracy: 0.9397 - val_loss: 0.1769 - val_accuracy: 0.9480\n",
      "Epoch 3/10\n",
      "46/46 [==============================] - 4s 97ms/step - loss: 0.1903 - accuracy: 0.9523 - val_loss: 0.2181 - val_accuracy: 0.9329\n",
      "Epoch 4/10\n",
      "46/46 [==============================] - 4s 94ms/step - loss: 0.1634 - accuracy: 0.9603 - val_loss: 0.2693 - val_accuracy: 0.9174\n",
      "Epoch 5/10\n",
      "46/46 [==============================] - 4s 93ms/step - loss: 0.1453 - accuracy: 0.9625 - val_loss: 0.3034 - val_accuracy: 0.9103\n",
      "Epoch 6/10\n",
      "46/46 [==============================] - 4s 93ms/step - loss: 0.1253 - accuracy: 0.9692 - val_loss: 0.3410 - val_accuracy: 0.9026\n",
      "Epoch 7/10\n",
      "46/46 [==============================] - 4s 93ms/step - loss: 0.1108 - accuracy: 0.9736 - val_loss: 0.4112 - val_accuracy: 0.8903\n",
      "Epoch 8/10\n",
      "46/46 [==============================] - 4s 93ms/step - loss: 0.1048 - accuracy: 0.9752 - val_loss: 0.4432 - val_accuracy: 0.8847\n",
      "Epoch 9/10\n",
      "46/46 [==============================] - 4s 93ms/step - loss: 0.0962 - accuracy: 0.9768 - val_loss: 0.5056 - val_accuracy: 0.8696\n",
      "Epoch 10/10\n",
      "46/46 [==============================] - 4s 94ms/step - loss: 0.0887 - accuracy: 0.9784 - val_loss: 0.5136 - val_accuracy: 0.8732\n",
      "training model for CV #3\n",
      "Epoch 1/10\n",
      "46/46 [==============================] - 4s 95ms/step - loss: 0.1952 - accuracy: 0.9483 - val_loss: 0.1033 - val_accuracy: 0.9711\n",
      "Epoch 2/10\n",
      "46/46 [==============================] - 4s 94ms/step - loss: 0.1303 - accuracy: 0.9674 - val_loss: 0.1373 - val_accuracy: 0.9572\n",
      "Epoch 3/10\n",
      "46/46 [==============================] - 4s 93ms/step - loss: 0.1032 - accuracy: 0.9752 - val_loss: 0.1536 - val_accuracy: 0.9536\n",
      "Epoch 4/10\n",
      "46/46 [==============================] - 4s 93ms/step - loss: 0.0883 - accuracy: 0.9790 - val_loss: 0.1698 - val_accuracy: 0.9495\n",
      "Epoch 5/10\n",
      "46/46 [==============================] - 4s 94ms/step - loss: 0.0816 - accuracy: 0.9810 - val_loss: 0.2141 - val_accuracy: 0.9357\n",
      "Epoch 6/10\n",
      "46/46 [==============================] - 4s 96ms/step - loss: 0.0763 - accuracy: 0.9822 - val_loss: 0.2321 - val_accuracy: 0.9338\n",
      "Epoch 7/10\n",
      "46/46 [==============================] - 4s 94ms/step - loss: 0.0757 - accuracy: 0.9819 - val_loss: 0.2472 - val_accuracy: 0.9285\n",
      "Epoch 8/10\n",
      "46/46 [==============================] - 4s 93ms/step - loss: 0.0646 - accuracy: 0.9853 - val_loss: 0.2823 - val_accuracy: 0.9251\n",
      "Epoch 9/10\n",
      "46/46 [==============================] - 4s 94ms/step - loss: 0.0626 - accuracy: 0.9855 - val_loss: 0.3108 - val_accuracy: 0.9185\n",
      "Epoch 10/10\n",
      "46/46 [==============================] - 4s 93ms/step - loss: 0.0626 - accuracy: 0.9855 - val_loss: 0.3284 - val_accuracy: 0.9129\n",
      "training model for CV #4\n",
      "Epoch 1/10\n",
      "46/46 [==============================] - 5s 116ms/step - loss: 0.1346 - accuracy: 0.9646 - val_loss: 0.0634 - val_accuracy: 0.9843\n",
      "Epoch 2/10\n",
      "46/46 [==============================] - 4s 87ms/step - loss: 0.0916 - accuracy: 0.9764 - val_loss: 0.0758 - val_accuracy: 0.9779\n",
      "Epoch 3/10\n",
      "46/46 [==============================] - 4s 94ms/step - loss: 0.0740 - accuracy: 0.9809 - val_loss: 0.0945 - val_accuracy: 0.9706\n",
      "Epoch 4/10\n",
      "46/46 [==============================] - 4s 93ms/step - loss: 0.0670 - accuracy: 0.9838 - val_loss: 0.1095 - val_accuracy: 0.9689\n",
      "Epoch 5/10\n",
      "46/46 [==============================] - 4s 94ms/step - loss: 0.0614 - accuracy: 0.9854 - val_loss: 0.1233 - val_accuracy: 0.9634\n",
      "Epoch 6/10\n",
      "46/46 [==============================] - 4s 93ms/step - loss: 0.0607 - accuracy: 0.9853 - val_loss: 0.1503 - val_accuracy: 0.9550\n",
      "Epoch 7/10\n",
      "46/46 [==============================] - 4s 94ms/step - loss: 0.0536 - accuracy: 0.9868 - val_loss: 0.1636 - val_accuracy: 0.9533\n",
      "Epoch 8/10\n",
      "46/46 [==============================] - 4s 95ms/step - loss: 0.0475 - accuracy: 0.9891 - val_loss: 0.1873 - val_accuracy: 0.9471\n",
      "Epoch 9/10\n",
      "46/46 [==============================] - 4s 93ms/step - loss: 0.0422 - accuracy: 0.9903 - val_loss: 0.2024 - val_accuracy: 0.9452\n",
      "Epoch 10/10\n",
      "46/46 [==============================] - 4s 96ms/step - loss: 0.0452 - accuracy: 0.9891 - val_loss: 0.2587 - val_accuracy: 0.9356\n",
      "training model for CV #5\n",
      "Epoch 1/10\n",
      "46/46 [==============================] - 7s 148ms/step - loss: 0.0999 - accuracy: 0.9726 - val_loss: 0.0427 - val_accuracy: 0.9870\n",
      "Epoch 2/10\n",
      "46/46 [==============================] - 4s 83ms/step - loss: 0.0664 - accuracy: 0.9832 - val_loss: 0.0497 - val_accuracy: 0.9853\n",
      "Epoch 3/10\n",
      "46/46 [==============================] - 4s 95ms/step - loss: 0.0528 - accuracy: 0.9874 - val_loss: 0.0640 - val_accuracy: 0.9807\n",
      "Epoch 4/10\n",
      "46/46 [==============================] - 4s 94ms/step - loss: 0.0486 - accuracy: 0.9883 - val_loss: 0.0694 - val_accuracy: 0.9772\n",
      "Epoch 5/10\n",
      "46/46 [==============================] - 5s 101ms/step - loss: 0.0439 - accuracy: 0.9895 - val_loss: 0.0845 - val_accuracy: 0.9742\n",
      "Epoch 6/10\n",
      "46/46 [==============================] - 4s 98ms/step - loss: 0.0467 - accuracy: 0.9881 - val_loss: 0.0804 - val_accuracy: 0.9752\n",
      "Epoch 7/10\n",
      "46/46 [==============================] - 5s 98ms/step - loss: 0.0443 - accuracy: 0.9895 - val_loss: 0.1051 - val_accuracy: 0.9697\n",
      "Epoch 8/10\n",
      "46/46 [==============================] - 4s 94ms/step - loss: 0.0386 - accuracy: 0.9904 - val_loss: 0.1154 - val_accuracy: 0.9673\n",
      "Epoch 9/10\n",
      "46/46 [==============================] - 5s 100ms/step - loss: 0.0350 - accuracy: 0.9918 - val_loss: 0.1304 - val_accuracy: 0.9634\n",
      "Epoch 10/10\n",
      "46/46 [==============================] - 4s 97ms/step - loss: 0.0356 - accuracy: 0.9915 - val_loss: 0.1427 - val_accuracy: 0.9605\n"
     ]
    }
   ],
   "source": [
    "# 계층 교차 검증\n",
    "n_fold = 5  \n",
    "seed = 42\n",
    "\n",
    "cv = StratifiedKFold(n_splits = n_fold, shuffle=True, random_state=seed)\n",
    "\n",
    "for i, (i_trn, i_val) in enumerate(cv.split(train_seq, y_train), 1):\n",
    "    print(f'training model for CV #{i}')\n",
    "\n",
    "    model3.fit(train_seq[i_trn], \n",
    "            y_train[i_trn],\n",
    "            validation_data=(train_seq[i_val], y_train[i_val]),\n",
    "            epochs=10,\n",
    "            batch_size=512,\n",
    "            callbacks=[model_ckpt])"
   ]
  },
  {
   "cell_type": "code",
   "execution_count": 207,
   "metadata": {},
   "outputs": [],
   "source": [
    "# 모델 불러오기\n",
    "from keras.models import load_model\n",
    "\n",
    "model3=load_model('01-0.9624.hdf5')"
   ]
  },
  {
   "cell_type": "code",
   "execution_count": 208,
   "metadata": {},
   "outputs": [
    {
     "name": "stdout",
     "output_type": "stream",
     "text": [
      "286/286 [==============================] - 4s 7ms/step - loss: 0.7894 - accuracy: 0.7712\n"
     ]
    },
    {
     "data": {
      "text/plain": [
       "[0.7894023060798645, 0.7712188959121704]"
      ]
     },
     "execution_count": 208,
     "metadata": {},
     "output_type": "execute_result"
    }
   ],
   "source": [
    "model3.evaluate(test_seq, y_test)"
   ]
  },
  {
   "cell_type": "code",
   "execution_count": null,
   "metadata": {},
   "outputs": [],
   "source": []
  }
 ],
 "metadata": {
  "kernelspec": {
   "display_name": "Python 3.9.12 ('base')",
   "language": "python",
   "name": "python3"
  },
  "language_info": {
   "codemirror_mode": {
    "name": "ipython",
    "version": 3
   },
   "file_extension": ".py",
   "mimetype": "text/x-python",
   "name": "python",
   "nbconvert_exporter": "python",
   "pygments_lexer": "ipython3",
   "version": "3.9.12"
  },
  "orig_nbformat": 4,
  "vscode": {
   "interpreter": {
    "hash": "ad2bdc8ecc057115af97d19610ffacc2b4e99fae6737bb82f5d7fb13d2f2c186"
   }
  }
 },
 "nbformat": 4,
 "nbformat_minor": 2
}
