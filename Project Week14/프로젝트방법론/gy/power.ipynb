{
 "cells": [
  {
   "cell_type": "markdown",
   "metadata": {},
   "source": [
    "# 건영이의 알고리즘"
   ]
  },
  {
   "cell_type": "code",
   "execution_count": 1,
   "metadata": {},
   "outputs": [],
   "source": [
    "# 모듈 로딩\n",
    "from station_gy import Station_gy\n",
    "from userInfo_gy import UserInfo\n",
    "from geopy.geocoders import Nominatim\n",
    "from settings import *\n",
    "import numpy as np\n",
    "import pymysql\n",
    "import pandas as pd"
   ]
  },
  {
   "cell_type": "markdown",
   "metadata": {},
   "source": [
    "## [1] geopy모듈"
   ]
  },
  {
   "cell_type": "code",
   "execution_count": 2,
   "metadata": {},
   "outputs": [
    {
     "name": "stdout",
     "output_type": "stream",
     "text": [
      "학남로, 국우동, 북구, 대구, 41420, 대한민국\n",
      "(35.9491887, 128.5685799)\n",
      "35.9491887\n",
      "128.5685799\n",
      "<class 'geopy.location.Location'>\n"
     ]
    }
   ],
   "source": [
    "# geopy모듈 확인해보기(geocode)\n",
    "geolocoder = Nominatim(user_agent = 'South Korea', timeout= 200)\n",
    "geo = geolocoder.geocode('대구광역시 북구 학정동 학남로 60')\n",
    "print(geo[0]) # 주소 데이터\n",
    "print(geo[1]) # 위도 경도\n",
    "print(geo.latitude) # 위도\n",
    "print(geo.longitude) # 경도\n",
    "print(type(geo))"
   ]
  },
  {
   "cell_type": "code",
   "execution_count": 3,
   "metadata": {},
   "outputs": [
    {
     "name": "stdout",
     "output_type": "stream",
     "text": [
      "학정초등학교, 학남로, 국우동, 북구, 대구, 41420, 대한민국\n",
      "(35.94834025, 128.56911985305533)\n",
      "35.94834025\n",
      "128.56911985305533\n",
      "<class 'geopy.location.Location'>\n"
     ]
    }
   ],
   "source": [
    "# geopy모듈 확인해보기(reverse)\n",
    "geolocoder = Nominatim(user_agent = 'South Korea', timeout= 200)\n",
    "geo = geolocoder.reverse('35.9475,128.5694')\n",
    "print(geo[0]) # 주소 데이터\n",
    "print(geo[1]) # 위도 경도\n",
    "print(geo.latitude) # 위도\n",
    "print(geo.longitude) # 경도\n",
    "print(type(geo))"
   ]
  },
  {
   "cell_type": "code",
   "execution_count": 4,
   "metadata": {},
   "outputs": [
    {
     "name": "stdout",
     "output_type": "stream",
     "text": [
      "35.9491887\n",
      "128.5685799\n",
      "사용자 현재 위치 : 대구광역시 북구 학정동 학남로 60\n",
      "위도 : 35.9491887, 경도 : 128.5685799\n"
     ]
    }
   ],
   "source": [
    "# userinfo모듈을 이용한 유저 위치 입력 => 위도 경도 위치 반환\n",
    "user1 = UserInfo.geocoding('대구광역시 북구 학정동 학남로 60')\n",
    "print(user1.loc[0])\n",
    "print(user1.loc[1])\n",
    "user1.get_user_info()"
   ]
  },
  {
   "cell_type": "code",
   "execution_count": 5,
   "metadata": {},
   "outputs": [
    {
     "name": "stdout",
     "output_type": "stream",
     "text": [
      "35.9475\n",
      "128.5694\n",
      "사용자 현재 위치 : 학정초등학교, 학남로, 국우동, 북구, 대구, 41420, 대한민국\n",
      "위도 : 35.9475, 경도 : 128.5694\n"
     ]
    }
   ],
   "source": [
    "# userinfo모듈을 이용한 유저 위치 입력 => 위도 경도 위치 반환\n",
    "user1 = UserInfo.geocoding_reverse('35.9475, 128.5694')\n",
    "print(user1.loc[0])\n",
    "print(user1.loc[1])\n",
    "user1.get_user_info()"
   ]
  },
  {
   "cell_type": "markdown",
   "metadata": {},
   "source": [
    "## [2] 파일 불러오기"
   ]
  },
  {
   "cell_type": "code",
   "execution_count": 6,
   "metadata": {},
   "outputs": [],
   "source": [
    "# Staion이라는 객체 생성\n",
    "station_app = Station_gy()"
   ]
  },
  {
   "cell_type": "code",
   "execution_count": 7,
   "id": "8c266c45",
   "metadata": {
    "scrolled": true
   },
   "outputs": [
    {
     "data": {
      "text/plain": [
       "['car_register', 'charge_address', 'count', 'seoul_loc', 'speed', '구분_명_주소']"
      ]
     },
     "execution_count": 7,
     "metadata": {},
     "output_type": "execute_result"
    }
   ],
   "source": [
    "# sql에 있는 전체 테이블 이름을 적어야함\n",
    "station_app.get_table_names()\n",
    "\n",
    "# 한글명으로 되어 있는 것들은 지금 우리 한테는 별 필요 없는 것이라서 신경쓰지말고 진행하자"
   ]
  },
  {
   "cell_type": "code",
   "execution_count": 8,
   "id": "f59ec21c",
   "metadata": {},
   "outputs": [],
   "source": [
    "# 서울시 전기차 등록현황\n",
    "car_register_df=station_app.load_DB('car_register')\n",
    "# car_register_df.to_csv('C:/Users/USER/Desktop/project/12.계단조/Data/car_register.csv',index=False,encoding='cp949')"
   ]
  },
  {
   "cell_type": "code",
   "execution_count": 9,
   "metadata": {},
   "outputs": [],
   "source": [
    "# 년도별 서울시 전기차 수\n",
    "count_df=station_app.load_DB('count')\n",
    "# count_df.to_csv('C:/Users/USER/Desktop/project/12.계단조/Data/count.csv',index=False,encoding='cp949')"
   ]
  },
  {
   "cell_type": "code",
   "execution_count": 10,
   "metadata": {},
   "outputs": [],
   "source": [
    "# 서울시 충전소 주소\n",
    "charge_address_df=station_app.load_DB('charge_address')\n",
    "# charge_address_df.to_csv('C:/Users/USER/Desktop/project/12.계단조/Data/charge_address.csv',index=False,encoding='cp949')"
   ]
  },
  {
   "cell_type": "code",
   "execution_count": 11,
   "metadata": {},
   "outputs": [],
   "source": [
    "# 서울시 충전소 위도경도\n",
    "seoul_loc_df=station_app.load_DB('seoul_loc')\n",
    "# seoul_loc_df.to_csv('C:/Users/USER/Desktop/project/12.계단조/Data/seoul_loc.csv',index=False,encoding='cp949')"
   ]
  },
  {
   "cell_type": "code",
   "execution_count": 12,
   "metadata": {},
   "outputs": [],
   "source": [
    "# 서울시 충전소 구분\n",
    "speed_df=station_app.load_DB('speed')\n",
    "# speed_df.to_csv('C:/Users/USER/Desktop/project/12.계단조/Data/speed.csv',index=False,encoding='cp949')"
   ]
  },
  {
   "cell_type": "markdown",
   "metadata": {},
   "source": [
    "## [3] 유클리드 거리 구하기"
   ]
  },
  {
   "cell_type": "code",
   "execution_count": 13,
   "metadata": {},
   "outputs": [],
   "source": [
    "from haversine import haversine"
   ]
  },
  {
   "cell_type": "code",
   "execution_count": 14,
   "metadata": {},
   "outputs": [
    {
     "data": {
      "text/plain": [
       "2.2824200352130695"
      ]
     },
     "execution_count": 14,
     "metadata": {},
     "output_type": "execute_result"
    }
   ],
   "source": [
    "sta=UserInfo.geocoding('대구광역시 북구 대학로 80').loc # 출발 장소\n",
    "end=UserInfo.geocoding('대구광역시 동구 공항로 221').loc # 도착 장소\n",
    "\n",
    "haversine(sta,end)\n",
    "\n",
    "# 출방장소와 도착장소는 2.2824200352130695km만큼 떨어져 있다."
   ]
  },
  {
   "cell_type": "code",
   "execution_count": 15,
   "metadata": {},
   "outputs": [
    {
     "data": {
      "text/plain": [
       "4.969880820326101"
      ]
     },
     "execution_count": 15,
     "metadata": {},
     "output_type": "execute_result"
    }
   ],
   "source": [
    "# 5km\n",
    "a=np.array((35.882,128.6623))\n",
    "b=np.array((35.8708,128.7157))\n",
    "\n",
    "haversine(a,b)"
   ]
  },
  {
   "cell_type": "code",
   "execution_count": 16,
   "metadata": {},
   "outputs": [
    {
     "data": {
      "text/plain": [
       "2.9828207457072033"
      ]
     },
     "execution_count": 16,
     "metadata": {},
     "output_type": "execute_result"
    }
   ],
   "source": [
    "# 3km\n",
    "a=(35.882, 128.6623)\n",
    "b=(35.874, 128.6939)\n",
    "\n",
    "haversine(a,b)"
   ]
  },
  {
   "cell_type": "code",
   "execution_count": 17,
   "metadata": {},
   "outputs": [
    {
     "data": {
      "text/plain": [
       "2.2824200352130695"
      ]
     },
     "execution_count": 17,
     "metadata": {},
     "output_type": "execute_result"
    }
   ],
   "source": [
    "# 모듈을 이용하여 거리 구하기\n",
    "result=station_app.cal_dis(sta,end)\n",
    "result"
   ]
  },
  {
   "cell_type": "markdown",
   "metadata": {},
   "source": [
    "## [4] 알고리즘 구현"
   ]
  },
  {
   "cell_type": "markdown",
   "metadata": {},
   "source": [
    "### [4-1] 충전소 데프 만들기\n",
    "- 사용자 3/5/7km내의 충전소 정보 제공"
   ]
  },
  {
   "cell_type": "code",
   "execution_count": 18,
   "metadata": {},
   "outputs": [
    {
     "data": {
      "text/html": [
       "<div>\n",
       "<style scoped>\n",
       "    .dataframe tbody tr th:only-of-type {\n",
       "        vertical-align: middle;\n",
       "    }\n",
       "\n",
       "    .dataframe tbody tr th {\n",
       "        vertical-align: top;\n",
       "    }\n",
       "\n",
       "    .dataframe thead th {\n",
       "        text-align: right;\n",
       "    }\n",
       "</style>\n",
       "<table border=\"1\" class=\"dataframe\">\n",
       "  <thead>\n",
       "    <tr style=\"text-align: right;\">\n",
       "      <th></th>\n",
       "      <th>station</th>\n",
       "      <th>LAT</th>\n",
       "      <th>LNG</th>\n",
       "      <th>dis(km)</th>\n",
       "      <th>address</th>\n",
       "      <th>speed</th>\n",
       "    </tr>\n",
       "  </thead>\n",
       "  <tbody>\n",
       "    <tr>\n",
       "      <th>0</th>\n",
       "      <td>남서울직할</td>\n",
       "      <td>37.527292</td>\n",
       "      <td>126.929853</td>\n",
       "      <td>0.551920</td>\n",
       "      <td>서울특별시 영등포구 여의도동 21</td>\n",
       "      <td>완속/급속</td>\n",
       "    </tr>\n",
       "    <tr>\n",
       "      <th>1</th>\n",
       "      <td>롯데캐슬엠파이어</td>\n",
       "      <td>37.520241</td>\n",
       "      <td>126.926409</td>\n",
       "      <td>0.932338</td>\n",
       "      <td>서울특별시 영등포구 여의도동 의사당대로 127</td>\n",
       "      <td>완속/급속</td>\n",
       "    </tr>\n",
       "  </tbody>\n",
       "</table>\n",
       "</div>"
      ],
      "text/plain": [
       "    station        LAT         LNG   dis(km)                    address  speed\n",
       "0     남서울직할  37.527292  126.929853  0.551920         서울특별시 영등포구 여의도동 21  완속/급속\n",
       "1  롯데캐슬엠파이어  37.520241  126.926409  0.932338  서울특별시 영등포구 여의도동 의사당대로 127  완속/급속"
      ]
     },
     "execution_count": 18,
     "metadata": {},
     "output_type": "execute_result"
    }
   ],
   "source": [
    "# 충전소 객체를 만들고 새로운 데이터 프레임 만들기\n",
    "station_gy=Station_gy(use_DB=True)\n",
    "sta=UserInfo.geocoding('서울특별시 영등포구 여의동로 330').loc # 출발 장소: 여의도 공원\n",
    "result=station_gy.station_df(sta)\n",
    "result"
   ]
  },
  {
   "cell_type": "markdown",
   "metadata": {},
   "source": [
    "### [4-2] 등록차량 데프 만들기\n",
    "- 동일 구내의 전기차의 수를 반환"
   ]
  },
  {
   "cell_type": "code",
   "execution_count": 19,
   "id": "f59ec21c",
   "metadata": {},
   "outputs": [
    {
     "data": {
      "text/html": [
       "<div>\n",
       "<style scoped>\n",
       "    .dataframe tbody tr th:only-of-type {\n",
       "        vertical-align: middle;\n",
       "    }\n",
       "\n",
       "    .dataframe tbody tr th {\n",
       "        vertical-align: top;\n",
       "    }\n",
       "\n",
       "    .dataframe thead th {\n",
       "        text-align: right;\n",
       "    }\n",
       "</style>\n",
       "<table border=\"1\" class=\"dataframe\">\n",
       "  <thead>\n",
       "    <tr style=\"text-align: right;\">\n",
       "      <th></th>\n",
       "      <th>ind</th>\n",
       "      <th>dong</th>\n",
       "      <th>fuel</th>\n",
       "    </tr>\n",
       "  </thead>\n",
       "  <tbody>\n",
       "    <tr>\n",
       "      <th>0</th>\n",
       "      <td>1</td>\n",
       "      <td>서울특별시 강남구 개포1동</td>\n",
       "      <td>하이브리드(휘발유+전기)</td>\n",
       "    </tr>\n",
       "    <tr>\n",
       "      <th>1</th>\n",
       "      <td>2</td>\n",
       "      <td>서울특별시 강남구 개포1동</td>\n",
       "      <td>하이브리드(휘발유+전기)</td>\n",
       "    </tr>\n",
       "    <tr>\n",
       "      <th>2</th>\n",
       "      <td>3</td>\n",
       "      <td>서울특별시 강남구 개포2동</td>\n",
       "      <td>하이브리드(휘발유+전기)</td>\n",
       "    </tr>\n",
       "    <tr>\n",
       "      <th>3</th>\n",
       "      <td>4</td>\n",
       "      <td>서울특별시 강남구 개포2동</td>\n",
       "      <td>하이브리드(휘발유+전기)</td>\n",
       "    </tr>\n",
       "    <tr>\n",
       "      <th>4</th>\n",
       "      <td>5</td>\n",
       "      <td>서울특별시 강남구 개포1동</td>\n",
       "      <td>하이브리드(휘발유+전기)</td>\n",
       "    </tr>\n",
       "    <tr>\n",
       "      <th>...</th>\n",
       "      <td>...</td>\n",
       "      <td>...</td>\n",
       "      <td>...</td>\n",
       "    </tr>\n",
       "    <tr>\n",
       "      <th>189570</th>\n",
       "      <td>189571</td>\n",
       "      <td>서울특별시 강남구 개포2동</td>\n",
       "      <td>전기</td>\n",
       "    </tr>\n",
       "    <tr>\n",
       "      <th>189571</th>\n",
       "      <td>189572</td>\n",
       "      <td>서울특별시 강남구 개포2동</td>\n",
       "      <td>하이브리드(휘발유+전기)</td>\n",
       "    </tr>\n",
       "    <tr>\n",
       "      <th>189572</th>\n",
       "      <td>189573</td>\n",
       "      <td>서울특별시 강남구 개포2동</td>\n",
       "      <td>하이브리드(휘발유+전기)</td>\n",
       "    </tr>\n",
       "    <tr>\n",
       "      <th>189573</th>\n",
       "      <td>189574</td>\n",
       "      <td>서울특별시 강남구 개포2동</td>\n",
       "      <td>하이브리드(휘발유+전기)</td>\n",
       "    </tr>\n",
       "    <tr>\n",
       "      <th>189574</th>\n",
       "      <td>189575</td>\n",
       "      <td>서울특별시 강남구 개포2동</td>\n",
       "      <td>하이브리드(휘발유+전기)</td>\n",
       "    </tr>\n",
       "  </tbody>\n",
       "</table>\n",
       "<p>189575 rows × 3 columns</p>\n",
       "</div>"
      ],
      "text/plain": [
       "           ind            dong           fuel\n",
       "0            1  서울특별시 강남구 개포1동  하이브리드(휘발유+전기)\n",
       "1            2  서울특별시 강남구 개포1동  하이브리드(휘발유+전기)\n",
       "2            3  서울특별시 강남구 개포2동  하이브리드(휘발유+전기)\n",
       "3            4  서울특별시 강남구 개포2동  하이브리드(휘발유+전기)\n",
       "4            5  서울특별시 강남구 개포1동  하이브리드(휘발유+전기)\n",
       "...        ...             ...            ...\n",
       "189570  189571  서울특별시 강남구 개포2동             전기\n",
       "189571  189572  서울특별시 강남구 개포2동  하이브리드(휘발유+전기)\n",
       "189572  189573  서울특별시 강남구 개포2동  하이브리드(휘발유+전기)\n",
       "189573  189574  서울특별시 강남구 개포2동  하이브리드(휘발유+전기)\n",
       "189574  189575  서울특별시 강남구 개포2동  하이브리드(휘발유+전기)\n",
       "\n",
       "[189575 rows x 3 columns]"
      ]
     },
     "execution_count": 19,
     "metadata": {},
     "output_type": "execute_result"
    }
   ],
   "source": [
    "# 서울시 전기차 등록현황\n",
    "car_register_df=station_app.load_DB('car_register')\n",
    "car_register_df"
   ]
  },
  {
   "cell_type": "code",
   "execution_count": 20,
   "metadata": {},
   "outputs": [
    {
     "name": "stdout",
     "output_type": "stream",
     "text": [
      "영등포구\n"
     ]
    }
   ],
   "source": [
    "sta1=UserInfo.geocoding('서울특별시 영등포구 여의동로 330')\n",
    "gu=sta1.address.split(' ')[1]\n",
    "print(gu)"
   ]
  },
  {
   "cell_type": "code",
   "execution_count": 21,
   "metadata": {},
   "outputs": [
    {
     "name": "stdout",
     "output_type": "stream",
     "text": [
      "           ind              dong           fuel\n",
      "23          24   서울특별시 영등포구 당산1동  하이브리드(휘발유+전기)\n",
      "29          30   서울특별시 영등포구 당산1동  하이브리드(휘발유+전기)\n",
      "80          81   서울특별시 영등포구 당산1동             전기\n",
      "85          86   서울특별시 영등포구 당산1동             수소\n",
      "88          89   서울특별시 영등포구 당산1동  하이브리드(휘발유+전기)\n",
      "...        ...               ...            ...\n",
      "188733  188734  서울특별시 영등포구 영등포본동             전기\n",
      "188734  188735  서울특별시 영등포구 영등포본동  하이브리드(휘발유+전기)\n",
      "188735  188736  서울특별시 영등포구 영등포본동             전기\n",
      "188736  188737  서울특별시 영등포구 영등포본동  하이브리드(휘발유+전기)\n",
      "188737  188738  서울특별시 영등포구 영등포본동             전기\n",
      "\n",
      "[9275 rows x 3 columns]\n"
     ]
    }
   ],
   "source": [
    "c=station_gy.res_car_cnt(sta1.address)\n",
    "print(c)"
   ]
  },
  {
   "cell_type": "code",
   "execution_count": 22,
   "metadata": {},
   "outputs": [
    {
     "data": {
      "text/html": [
       "<div>\n",
       "<style scoped>\n",
       "    .dataframe tbody tr th:only-of-type {\n",
       "        vertical-align: middle;\n",
       "    }\n",
       "\n",
       "    .dataframe tbody tr th {\n",
       "        vertical-align: top;\n",
       "    }\n",
       "\n",
       "    .dataframe thead th {\n",
       "        text-align: right;\n",
       "    }\n",
       "</style>\n",
       "<table border=\"1\" class=\"dataframe\">\n",
       "  <thead>\n",
       "    <tr style=\"text-align: right;\">\n",
       "      <th>fuel</th>\n",
       "      <th>수소</th>\n",
       "      <th>전기</th>\n",
       "      <th>하이브리드(LPG+전기)</th>\n",
       "      <th>하이브리드(경유+전기)</th>\n",
       "      <th>하이브리드(휘발유+전기)</th>\n",
       "    </tr>\n",
       "  </thead>\n",
       "  <tbody>\n",
       "    <tr>\n",
       "      <th>count</th>\n",
       "      <td>159</td>\n",
       "      <td>2388</td>\n",
       "      <td>102</td>\n",
       "      <td>88</td>\n",
       "      <td>6538</td>\n",
       "    </tr>\n",
       "  </tbody>\n",
       "</table>\n",
       "</div>"
      ],
      "text/plain": [
       "fuel    수소    전기  하이브리드(LPG+전기)  하이브리드(경유+전기)  하이브리드(휘발유+전기)\n",
       "count  159  2388            102            88           6538"
      ]
     },
     "execution_count": 22,
     "metadata": {},
     "output_type": "execute_result"
    }
   ],
   "source": [
    "station_gy.gu_res_car_cnt(c)"
   ]
  },
  {
   "cell_type": "code",
   "execution_count": 23,
   "metadata": {},
   "outputs": [
    {
     "data": {
      "text/html": [
       "<div>\n",
       "<style scoped>\n",
       "    .dataframe tbody tr th:only-of-type {\n",
       "        vertical-align: middle;\n",
       "    }\n",
       "\n",
       "    .dataframe tbody tr th {\n",
       "        vertical-align: top;\n",
       "    }\n",
       "\n",
       "    .dataframe thead th {\n",
       "        text-align: right;\n",
       "    }\n",
       "</style>\n",
       "<table border=\"1\" class=\"dataframe\">\n",
       "  <thead>\n",
       "    <tr style=\"text-align: right;\">\n",
       "      <th>fuel</th>\n",
       "      <th>수소</th>\n",
       "      <th>전기</th>\n",
       "      <th>하이브리드(LPG+전기)</th>\n",
       "      <th>하이브리드(경유+전기)</th>\n",
       "      <th>하이브리드(휘발유+전기)</th>\n",
       "    </tr>\n",
       "  </thead>\n",
       "  <tbody>\n",
       "    <tr>\n",
       "      <th>count</th>\n",
       "      <td>159</td>\n",
       "      <td>2388</td>\n",
       "      <td>102</td>\n",
       "      <td>88</td>\n",
       "      <td>6538</td>\n",
       "    </tr>\n",
       "  </tbody>\n",
       "</table>\n",
       "</div>"
      ],
      "text/plain": [
       "fuel    수소    전기  하이브리드(LPG+전기)  하이브리드(경유+전기)  하이브리드(휘발유+전기)\n",
       "count  159  2388            102            88           6538"
      ]
     },
     "execution_count": 23,
     "metadata": {},
     "output_type": "execute_result"
    }
   ],
   "source": [
    "gu_res_car_df=pd.DataFrame(c.groupby('fuel').count()['dong'])\n",
    "a=gu_res_car_df.T\n",
    "a.index=['count']\n",
    "a"
   ]
  },
  {
   "cell_type": "code",
   "execution_count": 24,
   "metadata": {},
   "outputs": [
    {
     "name": "stdout",
     "output_type": "stream",
     "text": [
      "    year  counts\n",
      "0   2005       6\n",
      "1   2006      24\n",
      "2   2007     122\n",
      "3   2008     207\n",
      "4   2009     779\n",
      "5   2010     960\n",
      "6   2011    2348\n",
      "7   2012    4913\n",
      "8   2013    4015\n",
      "9   2014    5306\n",
      "10  2015    6597\n",
      "11  2016   10690\n",
      "12  2017   16469\n",
      "13  2018   20916\n",
      "14  2019   23576\n",
      "15  2020   35929\n",
      "16  2021   50847\n",
      "17  2022    5882\n"
     ]
    }
   ],
   "source": [
    "conn = pymysql.connect(host=host_IP, user=user_ID, password=password, db=db_name, charset=charset) # mysql과 연결\n",
    "cur = conn.cursor() # Cursor객체를 가기고 옴\n",
    "sql = f\"SELECT * FROM count\"\n",
    "cur.execute(sql) # sql문장을 DB서버에 전송\n",
    "rows = cur.fetchall() # 서버로부터 가져온 데이터를 코드에서 활용 => fetchall(), fetchone(), fetchmany() 등을 이용함\n",
    "tabel = pd.DataFrame(rows, columns = [t[0] for t in cur.description])\n",
    "cur.close()\n",
    "conn.close()\n",
    "print(tabel)"
   ]
  },
  {
   "cell_type": "code",
   "execution_count": 25,
   "metadata": {},
   "outputs": [
    {
     "data": {
      "text/plain": [
       "(('year', 253, None, 40, 40, 0, False), ('counts', 3, None, 11, 11, 0, True))"
      ]
     },
     "execution_count": 25,
     "metadata": {},
     "output_type": "execute_result"
    }
   ],
   "source": [
    "cur.description"
   ]
  },
  {
   "cell_type": "markdown",
   "metadata": {},
   "source": [
    "- description => 각 칼럼의 특징 알아보기 (필드명,데이터형_코드, 표시크기, 내부크기, 정확도, 비율, nullable)"
   ]
  },
  {
   "cell_type": "code",
   "execution_count": 26,
   "metadata": {},
   "outputs": [
    {
     "data": {
      "text/plain": [
       "['car_register', 'charge_address', 'count', 'seoul_loc', 'speed', '구분_명_주소']"
      ]
     },
     "execution_count": 26,
     "metadata": {},
     "output_type": "execute_result"
    }
   ],
   "source": [
    "conn=pymysql.connect(host=host_IP,user=user_ID,password=password,db=db_name,charset=charset)\n",
    "cur=conn.cursor()\n",
    "sql=f'show tables in {db_name}'\n",
    "cur.execute(sql)\n",
    "tb_name=cur.fetchall()\n",
    "tablelist=[tb[0] for tb in tb_name]\n",
    "cur.close()\n",
    "conn.close()\n",
    "tablelist"
   ]
  },
  {
   "cell_type": "code",
   "execution_count": 27,
   "metadata": {},
   "outputs": [
    {
     "data": {
      "text/plain": [
       "(('car_register',),\n",
       " ('charge_address',),\n",
       " ('count',),\n",
       " ('seoul_loc',),\n",
       " ('speed',),\n",
       " ('구분_명_주소',))"
      ]
     },
     "execution_count": 27,
     "metadata": {},
     "output_type": "execute_result"
    }
   ],
   "source": [
    "tb_name"
   ]
  },
  {
   "cell_type": "code",
   "execution_count": 28,
   "metadata": {},
   "outputs": [
    {
     "name": "stdout",
     "output_type": "stream",
     "text": [
      "2005\n",
      "2006\n",
      "2007\n",
      "2008\n",
      "2009\n",
      "2010\n",
      "2011\n",
      "2012\n",
      "2013\n",
      "2014\n",
      "2015\n",
      "2016\n",
      "2017\n",
      "2018\n",
      "2019\n",
      "2020\n",
      "2021\n",
      "2022\n"
     ]
    }
   ],
   "source": [
    "for a in rows:\n",
    "    print(a[0])"
   ]
  },
  {
   "cell_type": "code",
   "execution_count": null,
   "metadata": {},
   "outputs": [],
   "source": []
  }
 ],
 "metadata": {
  "kernelspec": {
   "display_name": "Python 3.9.13 ('PY_39')",
   "language": "python",
   "name": "python3"
  },
  "language_info": {
   "codemirror_mode": {
    "name": "ipython",
    "version": 3
   },
   "file_extension": ".py",
   "mimetype": "text/x-python",
   "name": "python",
   "nbconvert_exporter": "python",
   "pygments_lexer": "ipython3",
   "version": "3.9.13"
  },
  "orig_nbformat": 4,
  "vscode": {
   "interpreter": {
    "hash": "f383b27726cf6678b0d04baf9693a2bc69529457fb17a6accda21f03ae2e2b23"
   }
  }
 },
 "nbformat": 4,
 "nbformat_minor": 2
}
